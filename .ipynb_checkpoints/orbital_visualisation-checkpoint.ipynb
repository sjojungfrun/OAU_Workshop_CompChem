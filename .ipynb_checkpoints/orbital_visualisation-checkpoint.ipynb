{
 "cells": [
  {
   "cell_type": "markdown",
   "metadata": {},
   "source": [
    "\n",
    "### Explanation of the Code\n",
    "\n",
    "#### Importing Libraries"
   ]
  },
  {
   "cell_type": "code",
   "execution_count": null,
   "metadata": {},
   "outputs": [],
   "source": [
    "!pip install pyscf nglview geometric ase"
   ]
  },
  {
   "cell_type": "code",
   "execution_count": 2,
   "metadata": {},
   "outputs": [
    {
     "name": "stderr",
     "output_type": "stream",
     "text": [
      "/Users/Josete/miniforge3/envs/pyscf/lib/python3.12/site-packages/pyscf/dft/libxc.py:771: UserWarning: Since PySCF-2.3, B3LYP (and B3P86) are changed to the VWN-RPA variant, corresponding to the original definition by Stephens et al. (issue 1480) and the same as the B3LYP functional in Gaussian. To restore the VWN5 definition, you can put the setting \"B3LYP_WITH_VWN5 = True\" in pyscf_conf.py\n",
      "  warnings.warn('Since PySCF-2.3, B3LYP (and B3P86) are changed to the VWN-RPA variant, '\n"
     ]
    }
   ],
   "source": [
    "# Importing necessary libraries for numerical operations, plotting, and file handling\n",
    "import numpy as np\n",
    "\n",
    "# Importing PySCF modules for molecular computations\n",
    "from pyscf import gto\n",
    "from pyscf.tools import cubegen"
   ]
  },
  {
   "cell_type": "markdown",
   "metadata": {},
   "source": [
    "\n",
    "- `numpy`: A fundamental package for numerical computations in Python.\n",
    "- `pyscf.gto`: Module for defining molecular geometries and basis sets.\n",
    "- `pyscf.tools.cubegen`: Tools for handling cube files, often used for visualizing molecular orbitals.\n",
    "\n",
    "#### Defining Benzene Coordinates"
   ]
  },
  {
   "cell_type": "code",
   "execution_count": 3,
   "metadata": {},
   "outputs": [],
   "source": [
    "# Defining the coordinates of the benzene molecule in a multi-line string\n",
    "benzene_coordinates = '''\n",
    "C         -0.65914       -1.21034        3.98683\n",
    "C          0.73798       -1.21034        4.02059\n",
    "C         -1.35771       -0.00006        3.96990\n",
    "C          1.43653       -0.00004        4.03741\n",
    "C         -0.65915        1.21024        3.98685\n",
    "C          0.73797        1.21024        4.02061\n",
    "H         -1.20447       -2.15520        3.97369\n",
    "H          1.28332       -2.15517        4.03382\n",
    "H         -2.44839       -0.00006        3.94342\n",
    "H          2.52722       -0.00004        4.06369\n",
    "H         -1.20448        2.15509        3.97373\n",
    "H          1.28330        2.15508        4.03386\n",
    "'''"
   ]
  },
  {
   "cell_type": "markdown",
   "metadata": {},
   "source": [
    "\n",
    "- This string contains the atomic coordinates for the benzene molecule in XYZ format, specifying the type of atom and its 3D coordinates.\n",
    "\n",
    "#### Generating a PySCF Mole Object\n"
   ]
  },
  {
   "cell_type": "code",
   "execution_count": 4,
   "metadata": {},
   "outputs": [],
   "source": [
    "# Function to generate a PySCF Mole object\n",
    "def gen_mol(coords, basis='def2-svp', output='pyscf.log', charge=0):\n",
    "     mol = gto.Mole()  # Create a Mole object\n",
    "     mol.atom = coords  # Set the atomic coordinates\n",
    "     mol.basis = basis  # Set the basis set\n",
    "     mol.output = output  # Set the output file for log\n",
    "     mol.verbose = 5  # Set verbosity level\n",
    "     mol.charge = charge  # Set the molecular charge\n",
    "     mol.build()  # Build the molecule\n",
    "     return mol"
   ]
  },
  {
   "cell_type": "markdown",
   "metadata": {},
   "source": [
    "\n",
    "- This function takes molecular coordinates, a basis set, an output filename, and a charge as inputs.\n",
    "- It creates a `Mole` object, sets the atomic coordinates and basis set, builds the molecule, and returns the built `Mole` object.\n",
    "\n",
    "#### Running DFT Calculations"
   ]
  },
  {
   "cell_type": "code",
   "execution_count": 5,
   "metadata": {},
   "outputs": [],
   "source": [
    "# Function to run DFT calculations\n",
    "def run_dft(mol, xc_func='b3lyp'):\n",
    "     mf = mol.KS()  # Create a KS-DFT object\n",
    "     mf.xc = xc_func  # Set the exchange-correlation functional\n",
    "     mf.max_cycle = 300  # Set the maximum number of iterations\n",
    "     mf.kernel()  # Run the DFT calculation\n",
    "     return mf"
   ]
  },
  {
   "cell_type": "markdown",
   "metadata": {},
   "source": [
    "\n",
    "- This function takes a `Mole` object and an exchange-correlation functional as inputs.\n",
    "- It creates a KS-DFT (Kohn-Sham Density Functional Theory) object, sets the exchange-correlation functional, runs the DFT calculation, and returns the result.\n",
    "\n",
    "#### Calculating Energy of a Molecule"
   ]
  },
  {
   "cell_type": "code",
   "execution_count": 6,
   "metadata": {},
   "outputs": [],
   "source": [
    "# Function to calculate the energy of a molecule given its coordinates\n",
    "def calc_e(coords, basis='def2-svp', xc_func='b3lyp'):\n",
    "     mol = gen_mol(coords, basis=basis)  # Generate the molecule\n",
    "     mf = run_dft(mol, xc_func)  # Run\n",
    "     return mf"
   ]
  },
  {
   "cell_type": "markdown",
   "metadata": {},
   "source": [
    "   - Combines `gen_mol` and `run_dft` functions to calculate the energy of the molecule.\n",
    "   - Returns the results of the DFT calculation."
   ]
  },
  {
   "cell_type": "markdown",
   "metadata": {},
   "source": [
    "#### Generation of Molecular Orbitals"
   ]
  },
  {
   "cell_type": "code",
   "execution_count": 7,
   "metadata": {},
   "outputs": [],
   "source": [
    "def gen_orb(mol_name:str, orb_num:int, mf):\n",
    "     file = mol_name + '_mol_' + str(orb_num) + '.cub'\n",
    "     cubegen.orbital(mf.mol, file, mf.mo_coeff[:,orb_num - 1])"
   ]
  },
  {
   "cell_type": "markdown",
   "metadata": {},
   "source": [
    "   - Generates a cube file for a specified molecular orbital.\n",
    "   - Saves the cube file with a name based on the molecule name and orbital number.\n",
    "\n",
    "#### Running the DFT Calculation and Optimizing the Geometry\n"
   ]
  },
  {
   "cell_type": "code",
   "execution_count": 8,
   "metadata": {},
   "outputs": [
    {
     "name": "stdout",
     "output_type": "stream",
     "text": [
      "output file: pyscf.log\n"
     ]
    },
    {
     "data": {
      "text/plain": [
       "-232.0847037834477"
      ]
     },
     "execution_count": 8,
     "metadata": {},
     "output_type": "execute_result"
    }
   ],
   "source": [
    "my_mf = calc_e(benzene_coordinates)\n",
    "my_mf.e_tot"
   ]
  },
  {
   "cell_type": "markdown",
   "metadata": {},
   "source": [
    "- Calls `calc_e` with benzene coordinates to perform the initial DFT calculation and obtain the total energy.\n",
    "- The molecular energy is printed with the `e_tot` attribute of the `Mole` object"
   ]
  },
  {
   "cell_type": "code",
   "execution_count": 9,
   "metadata": {},
   "outputs": [
    {
     "name": "stderr",
     "output_type": "stream",
     "text": [
      "geometric-optimize called with the following command line:\n",
      "/Users/Josete/miniforge3/envs/pyscf/lib/python3.12/site-packages/ipykernel_launcher.py -f /Users/Josete/Library/Jupyter/runtime/kernel-1f13b270-9855-4a86-baf2-e606f65833d3.json\n",
      "\n",
      "                                        \u001b[91m())))))))))))))))/\u001b[0m                     \n",
      "                                    \u001b[91m())))))))))))))))))))))))),\u001b[0m                \n",
      "                                \u001b[91m*)))))))))))))))))))))))))))))))))\u001b[0m             \n",
      "                        \u001b[94m#,\u001b[0m    \u001b[91m()))))))))/\u001b[0m                \u001b[91m.)))))))))),\u001b[0m          \n",
      "                      \u001b[94m#%%%%,\u001b[0m  \u001b[91m())))))\u001b[0m                        \u001b[91m.))))))))*\u001b[0m        \n",
      "                      \u001b[94m*%%%%%%,\u001b[0m  \u001b[91m))\u001b[0m              \u001b[93m..\u001b[0m              \u001b[91m,))))))).\u001b[0m      \n",
      "                        \u001b[94m*%%%%%%,\u001b[0m         \u001b[93m***************/.\u001b[0m        \u001b[91m.)))))))\u001b[0m     \n",
      "                \u001b[94m#%%/\u001b[0m      \u001b[94m(%%%%%%,\u001b[0m    \u001b[93m/*********************.\u001b[0m       \u001b[91m)))))))\u001b[0m    \n",
      "              \u001b[94m.%%%%%%#\u001b[0m      \u001b[94m*%%%%%%,\u001b[0m  \u001b[93m*******/,\u001b[0m     \u001b[93m**********,\u001b[0m      \u001b[91m.))))))\u001b[0m   \n",
      "                \u001b[94m.%%%%%%/\u001b[0m      \u001b[94m*%%%%%%,\u001b[0m  \u001b[93m**\u001b[0m              \u001b[93m********\u001b[0m      \u001b[91m.))))))\u001b[0m  \n",
      "          \u001b[94m##\u001b[0m      \u001b[94m.%%%%%%/\u001b[0m      \u001b[94m(%%%%%%,\u001b[0m                  \u001b[93m,******\u001b[0m      \u001b[91m/)))))\u001b[0m  \n",
      "        \u001b[94m%%%%%%\u001b[0m      \u001b[94m.%%%%%%#\u001b[0m      \u001b[94m*%%%%%%,\u001b[0m    \u001b[92m,/////.\u001b[0m       \u001b[93m******\u001b[0m      \u001b[91m))))))\u001b[0m \n",
      "      \u001b[94m#%\u001b[0m      \u001b[94m%%\u001b[0m      \u001b[94m.%%%%%%/\u001b[0m      \u001b[94m*%%%%%%,\u001b[0m  \u001b[92m////////,\u001b[0m      \u001b[93m*****/\u001b[0m     \u001b[91m,)))))\u001b[0m \n",
      "    \u001b[94m#%%\u001b[0m  \u001b[94m%%%\u001b[0m  \u001b[94m%%%#\u001b[0m      \u001b[94m.%%%%%%/\u001b[0m      \u001b[94m(%%%%%%,\u001b[0m  \u001b[92m///////.\u001b[0m     \u001b[93m/*****\u001b[0m      \u001b[91m))))).\u001b[0m\n",
      "  \u001b[94m#%%%%.\u001b[0m      \u001b[94m%%%%%#\u001b[0m      \u001b[94m/%%%%%%*\u001b[0m      \u001b[94m#%%%%%%\u001b[0m   \u001b[92m/////)\u001b[0m     \u001b[93m******\u001b[0m      \u001b[91m))))),\u001b[0m\n",
      "    \u001b[94m#%%%%##%\u001b[0m  \u001b[94m%%%#\u001b[0m      \u001b[94m.%%%%%%/\u001b[0m      \u001b[94m(%%%%%%,\u001b[0m  \u001b[92m///////.\u001b[0m     \u001b[93m/*****\u001b[0m      \u001b[91m))))).\u001b[0m\n",
      "      \u001b[94m##\u001b[0m     \u001b[94m%%%\u001b[0m      \u001b[94m.%%%%%%/\u001b[0m      \u001b[94m*%%%%%%,\u001b[0m  \u001b[92m////////.\u001b[0m      \u001b[93m*****/\u001b[0m     \u001b[91m,)))))\u001b[0m \n",
      "        \u001b[94m#%%%%#\u001b[0m      \u001b[94m/%%%%%%/\u001b[0m      \u001b[94m(%%%%%%\u001b[0m      \u001b[92m/)/)//\u001b[0m       \u001b[93m******\u001b[0m      \u001b[91m))))))\u001b[0m \n",
      "          \u001b[94m##\u001b[0m      \u001b[94m.%%%%%%/\u001b[0m      \u001b[94m(%%%%%%,\u001b[0m                  \u001b[93m*******\u001b[0m      \u001b[91m))))))\u001b[0m  \n",
      "                \u001b[94m.%%%%%%/\u001b[0m      \u001b[94m*%%%%%%,\u001b[0m  \u001b[93m**.\u001b[0m             \u001b[93m/*******\u001b[0m      \u001b[91m.))))))\u001b[0m  \n",
      "              \u001b[94m*%%%%%%/\u001b[0m      \u001b[94m(%%%%%%\u001b[0m   \u001b[93m********/*..,*/*********\u001b[0m       \u001b[91m*))))))\u001b[0m   \n",
      "                \u001b[94m#%%/\u001b[0m      \u001b[94m(%%%%%%,\u001b[0m    \u001b[93m*********************/\u001b[0m        \u001b[91m)))))))\u001b[0m    \n",
      "                        \u001b[94m*%%%%%%,\u001b[0m         \u001b[93m,**************/\u001b[0m         \u001b[91m,))))))/\u001b[0m     \n",
      "                      \u001b[94m(%%%%%%\u001b[0m   \u001b[91m()\u001b[0m                              \u001b[91m))))))))\u001b[0m       \n",
      "                      \u001b[94m#%%%%,\u001b[0m  \u001b[91m())))))\u001b[0m                        \u001b[91m,)))))))),\u001b[0m        \n",
      "                        \u001b[94m#,\u001b[0m    \u001b[91m())))))))))\u001b[0m                \u001b[91m,)))))))))).\u001b[0m          \n",
      "                                 \u001b[91m()))))))))))))))))))))))))))))))/\u001b[0m             \n",
      "                                    \u001b[91m())))))))))))))))))))))))).\u001b[0m                \n",
      "                                         \u001b[91m())))))))))))))),\u001b[0m                     \n",
      "\n",
      "-=# \u001b[1;94m geomeTRIC started. Version: 1.0 \u001b[0m #=-\n",
      "Current date and time: 2024-05-31 09:38:54\n",
      "Custom engine selected.\n",
      "Bonds will be generated from interatomic distances less than 1.20 times sum of covalent radii\n",
      "36 internal coordinates being used (instead of 36 Cartesians)\n",
      "Internal coordinate system (atoms numbered from 1):\n",
      "Distance 1-2\n",
      "Distance 1-3\n",
      "Distance 1-7\n",
      "Distance 2-4\n",
      "Distance 2-8\n",
      "Distance 3-5\n",
      "Distance 3-9\n",
      "Distance 4-6\n",
      "Distance 4-10\n",
      "Distance 5-6\n",
      "Distance 5-11\n",
      "Distance 6-12\n",
      "Angle 2-1-7\n",
      "Angle 3-1-7\n",
      "Angle 1-2-8\n",
      "Angle 4-2-8\n",
      "Angle 1-3-9\n",
      "Angle 5-3-9\n",
      "Angle 2-4-10\n",
      "Angle 6-4-10\n",
      "Angle 3-5-11\n",
      "Angle 6-5-11\n",
      "Angle 4-6-12\n",
      "Angle 5-6-12\n",
      "Out-of-Plane 1-2-3-7\n",
      "Out-of-Plane 2-1-4-8\n",
      "Out-of-Plane 3-1-5-9\n",
      "Out-of-Plane 4-2-6-10\n",
      "Out-of-Plane 5-3-6-11\n",
      "Out-of-Plane 6-4-5-12\n",
      "Dihedral 3-1-2-4\n",
      "Dihedral 3-1-2-8\n",
      "Dihedral 7-1-2-4\n",
      "Dihedral 7-1-2-8\n",
      "Dihedral 2-1-3-5\n",
      "Dihedral 2-1-3-9\n",
      "Dihedral 7-1-3-5\n",
      "Dihedral 7-1-3-9\n",
      "Dihedral 1-2-4-6\n",
      "Dihedral 1-2-4-10\n",
      "Dihedral 8-2-4-6\n",
      "Dihedral 8-2-4-10\n",
      "Dihedral 1-3-5-6\n",
      "Dihedral 1-3-5-11\n",
      "Dihedral 9-3-5-6\n",
      "Dihedral 9-3-5-11\n",
      "Dihedral 2-4-6-5\n",
      "Dihedral 2-4-6-12\n",
      "Dihedral 10-4-6-5\n",
      "Dihedral 10-4-6-12\n",
      "Dihedral 3-5-6-4\n",
      "Dihedral 3-5-6-12\n",
      "Dihedral 11-5-6-4\n",
      "Dihedral 11-5-6-12\n",
      "Translation-X 1-12\n",
      "Translation-Y 1-12\n",
      "Translation-Z 1-12\n",
      "Rotation-A 1-12\n",
      "Rotation-B 1-12\n",
      "Rotation-C 1-12\n",
      "<class 'geometric.internal.Distance'> : 12\n",
      "<class 'geometric.internal.Angle'> : 12\n",
      "<class 'geometric.internal.OutOfPlane'> : 6\n",
      "<class 'geometric.internal.Dihedral'> : 24\n",
      "<class 'geometric.internal.TranslationX'> : 1\n",
      "<class 'geometric.internal.TranslationY'> : 1\n",
      "<class 'geometric.internal.TranslationZ'> : 1\n",
      "<class 'geometric.internal.RotationA'> : 1\n",
      "<class 'geometric.internal.RotationB'> : 1\n",
      "<class 'geometric.internal.RotationC'> : 1\n",
      "> ===== Optimization Info: ====\n",
      "> Job type: Energy minimization\n",
      "> Maximum number of optimization cycles: 300\n",
      "> Initial / maximum trust radius (Angstrom): 0.100 / 0.300\n",
      "> Convergence Criteria:\n",
      "> Will converge when all 5 criteria are reached:\n",
      ">  |Delta-E| < 1.00e-06\n",
      ">  RMS-Grad  < 3.00e-04\n",
      ">  Max-Grad  < 4.50e-04\n",
      ">  RMS-Disp  < 1.20e-03\n",
      ">  Max-Disp  < 1.80e-03\n",
      "> === End Optimization Info ===\n",
      "Step    0 : Gradient = 1.120e-03/1.570e-03 (rms/max) Energy = -232.0847037839\n",
      "Hessian Eigenvalues: 2.30000e-02 2.30000e-02 2.30000e-02 ... 4.60327e-01 4.60332e-01 4.60345e-01\n",
      "Step    1 : Displace = \u001b[0m2.958e-03\u001b[0m/\u001b[0m4.070e-03\u001b[0m (rms/max) Trust = 1.000e-01 (=) Grad = \u001b[92m1.013e-04\u001b[0m/\u001b[92m1.684e-04\u001b[0m (rms/max) E (change) = -232.0847333736 (\u001b[0m-2.959e-05\u001b[0m) Quality = \u001b[0m0.913\u001b[0m\n",
      "Hessian Eigenvalues: 2.29997e-02 2.30000e-02 2.30000e-02 ... 4.60328e-01 4.60337e-01 4.97621e-01\n",
      "Step    2 : Displace = \u001b[92m4.043e-04\u001b[0m/\u001b[92m7.524e-04\u001b[0m (rms/max) Trust = 1.414e-01 (\u001b[92m+\u001b[0m) Grad = \u001b[92m6.378e-05\u001b[0m/\u001b[92m1.429e-04\u001b[0m (rms/max) E (change) = -232.0847335457 (\u001b[92m-1.721e-07\u001b[0m) Quality = \u001b[0m0.521\u001b[0m\n",
      "Hessian Eigenvalues: 2.29997e-02 2.30000e-02 2.30000e-02 ... 4.60328e-01 4.60337e-01 4.97621e-01\n",
      "Converged! =D\n",
      "\n",
      "    #==========================================================================#\n",
      "    #| If this code has benefited your research, please support us by citing: |#\n",
      "    #|                                                                        |#\n",
      "    #| Wang, L.-P.; Song, C.C. (2016) \"Geometry optimization made simple with |#\n",
      "    #| translation and rotation coordinates\", J. Chem, Phys. 144, 214108.     |#\n",
      "    #| http://dx.doi.org/10.1063/1.4952956                                    |#\n",
      "    #==========================================================================#\n",
      "    Time elapsed since start of run_optimizer: 109.235 seconds\n"
     ]
    },
    {
     "name": "stdout",
     "output_type": "stream",
     "text": [
      "[[-1.24677723e+00 -2.28962079e+00  7.53390982e+00]\n",
      " [ 1.39583088e+00 -2.28968567e+00  7.59784451e+00]\n",
      " [-2.56769491e+00 -9.13796195e-05  7.50198773e+00]\n",
      " [ 2.71661852e+00 -9.57312636e-05  7.62980335e+00]\n",
      " [-1.24683619e+00  2.28946765e+00  7.53395021e+00]\n",
      " [ 1.39576992e+00  2.28946048e+00  7.59788486e+00]\n",
      " [-2.27959360e+00 -4.07878536e+00  7.50891920e+00]\n",
      " [ 2.42864854e+00 -4.07884460e+00  7.62281650e+00]\n",
      " [-4.63309930e+00 -1.12198066e-04  7.45201328e+00]\n",
      " [ 4.78200967e+00 -7.52138416e-05  7.67974955e+00]\n",
      " [-2.27965428e+00  4.07863003e+00  7.50899232e+00]\n",
      " [ 2.42858243e+00  4.07861887e+00  7.62288952e+00]]\n"
     ]
    }
   ],
   "source": [
    "from pyscf.geomopt.geometric_solver import optimize\n",
    "mol_eq = optimize(my_mf, maxsteps=100)\n",
    "\n",
    "mf_eq = run_dft(mol_eq)\n",
    "print(mol_eq.atom_coords())"
   ]
  },
  {
   "cell_type": "markdown",
   "metadata": {},
   "source": [
    "\n",
    "- Optimizes the geometry of the molecule using `optimize` from `pyscf.geomopt.geometric_solver`.\n",
    "- Runs another DFT calculation on the optimized geometry to create an `mf` object, which will be later processed.\n",
    "- Finally, the new atomic coordinates are printed.\n",
    "\n",
    "#### Generating and Saving Molecular Orbitals"
   ]
  },
  {
   "cell_type": "code",
   "execution_count": 10,
   "metadata": {},
   "outputs": [
    {
     "name": "stdout",
     "output_type": "stream",
     "text": [
      "Writing orbital 16\n",
      "Writing orbital 17\n",
      "Writing orbital 18\n",
      "Writing orbital 19\n",
      "Writing orbital 20\n",
      "Writing orbital 21\n"
     ]
    }
   ],
   "source": [
    "for idx in range(16,22):\n",
    "    print(f'Writing orbital {idx}')\n",
    "    gen_orb('benzene', idx, mf_eq)"
   ]
  },
  {
   "cell_type": "markdown",
   "metadata": {},
   "source": [
    "- Loops over a range of molecular orbital indices (16 to 21) to generate and save cube files for these orbitals using `gen_orb`. These are the 6 molecular orbitals which are last occupied by electrons.\n",
    "\n",
    "#### Visualizing the Results with NGLView\n"
   ]
  },
  {
   "cell_type": "code",
   "execution_count": 11,
   "metadata": {},
   "outputs": [
    {
     "data": {
      "text/plain": [
       "array([ 1.40189940e-04, -7.65922045e-04,  5.05057064e-03, -3.18968272e-03,\n",
       "        3.18386421e-03, -1.92731549e-03,  1.28368884e-02, -3.51951096e-03,\n",
       "       -2.08047715e-02,  1.76614970e-02,  2.67494011e-02, -5.78286338e-02,\n",
       "       -9.87597241e-02, -4.56648947e-02,  8.21704275e-02, -1.28847151e-02,\n",
       "        1.28318231e-06,  3.78791614e-02,  3.76822669e-02, -4.02487458e-06,\n",
       "       -1.41780279e-07, -4.76155143e-06,  2.09458030e-06,  2.36928742e-01,\n",
       "        3.96543283e-01, -2.82475820e-01, -5.70138905e-01, -6.83871217e-02,\n",
       "       -4.32480094e-06, -8.76725622e-01, -1.14712526e+00,  9.47437771e-01,\n",
       "        8.62643031e-01,  7.17020076e-01, -9.82142981e-02, -2.42391378e-01,\n",
       "        2.55218578e-01,  3.54621984e-01,  1.13002072e-01, -2.86812993e+00,\n",
       "       -1.25617737e-05,  8.00176971e-01, -4.16253207e-01,  3.17201425e-03,\n",
       "        1.56391657e-04,  1.98244671e+00, -1.06258565e-05,  4.19089838e-06,\n",
       "       -5.65607410e-01,  4.29462505e-01, -1.04787258e+00,  4.86192942e-01,\n",
       "       -5.85571706e-05, -1.33539997e+00,  8.83846392e-01, -8.86988309e-01,\n",
       "       -5.00041647e-01,  1.23013455e+00,  1.08372369e+00,  2.32886223e+00,\n",
       "        2.55851385e+00, -9.32303500e-01, -1.42100171e+00, -3.60461783e-04,\n",
       "       -5.33780429e-04, -3.11840321e-05,  3.51418714e-05, -3.52206596e+00,\n",
       "        1.86065722e+00, -2.52137387e-04, -1.05220761e-04, -7.30156634e+00,\n",
       "       -1.68645912e-01, -1.84807360e-01, -2.70618817e-05, -8.54991520e-02,\n",
       "        7.81935179e-02, -4.87040998e-01,  1.28129222e-04,  3.26613929e-05,\n",
       "       -4.76800143e-01, -1.04655415e-01,  1.37810052e+00,  2.92440552e-01,\n",
       "       -1.13707048e-04,  4.89675790e-02, -2.81799489e-05, -1.62414012e-05,\n",
       "        2.52859194e-01, -4.48047675e-01,  2.90691260e+00, -1.63685091e-01,\n",
       "        7.28658589e-01,  4.46437707e-01,  2.14369324e-05, -4.18969547e-05,\n",
       "       -3.63190581e-01,  4.65075568e-01,  2.42407111e-05,  1.26143387e-05,\n",
       "        1.13527833e-07,  6.00504251e-01, -6.62136892e-01, -9.01833329e-06,\n",
       "        2.11560394e-01, -4.27724593e-01, -1.47900523e-01,  1.72058729e-02,\n",
       "        7.00285821e-02,  1.46183775e+00,  3.33181760e-01,  5.73023570e-01,\n",
       "        6.18890670e-01, -1.00981435e+00])"
      ]
     },
     "execution_count": 11,
     "metadata": {},
     "output_type": "execute_result"
    }
   ],
   "source": [
    "mf_eq.mo_coeff[21]"
   ]
  },
  {
   "cell_type": "markdown",
   "metadata": {},
   "source": [
    "The `mo_coeff` method of the `mf` object prints the combination coefficients of the molecular orbital of index `idx` in terms of atomic orbitals"
   ]
  },
  {
   "cell_type": "code",
   "execution_count": 16,
   "metadata": {},
   "outputs": [
    {
     "ename": "TypeError",
     "evalue": "cannot use a bytes pattern on a string-like object",
     "output_type": "error",
     "traceback": [
      "\u001b[0;31m---------------------------------------------------------------------------\u001b[0m",
      "\u001b[0;31mTypeError\u001b[0m                                 Traceback (most recent call last)",
      "Cell \u001b[0;32mIn[16], line 8\u001b[0m\n\u001b[1;32m      6\u001b[0m xyz_file \u001b[38;5;241m=\u001b[39m \u001b[38;5;124m'\u001b[39m\u001b[38;5;124mbenzene_opt.xyz\u001b[39m\u001b[38;5;124m'\u001b[39m\n\u001b[1;32m      7\u001b[0m mol_eq\u001b[38;5;241m.\u001b[39mtofile(xyz_file, \u001b[38;5;28mformat\u001b[39m \u001b[38;5;241m=\u001b[39m \u001b[38;5;124m'\u001b[39m\u001b[38;5;124mxyz\u001b[39m\u001b[38;5;124m'\u001b[39m)\n\u001b[0;32m----> 8\u001b[0m ase_mol \u001b[38;5;241m=\u001b[39m \u001b[43mread\u001b[49m\u001b[43m(\u001b[49m\u001b[43mmol_string\u001b[49m\u001b[43m)\u001b[49m\n\u001b[1;32m     10\u001b[0m cube_file_path \u001b[38;5;241m=\u001b[39m \u001b[38;5;124m'\u001b[39m\u001b[38;5;124mbenzene_mol_17.cub\u001b[39m\u001b[38;5;124m'\u001b[39m  \u001b[38;5;66;03m# Replace with the path to your cube file\u001b[39;00m\n\u001b[1;32m     11\u001b[0m view \u001b[38;5;241m=\u001b[39m nv\u001b[38;5;241m.\u001b[39mshow_ase(ase_mol)\n",
      "File \u001b[0;32m~/miniforge3/envs/pyscf/lib/python3.12/site-packages/ase/io/formats.py:729\u001b[0m, in \u001b[0;36mread\u001b[0;34m(filename, index, format, parallel, do_not_split_by_at_sign, **kwargs)\u001b[0m\n\u001b[1;32m    727\u001b[0m \u001b[38;5;28;01mif\u001b[39;00m index \u001b[38;5;129;01mis\u001b[39;00m \u001b[38;5;28;01mNone\u001b[39;00m:\n\u001b[1;32m    728\u001b[0m     index \u001b[38;5;241m=\u001b[39m \u001b[38;5;241m-\u001b[39m\u001b[38;5;241m1\u001b[39m\n\u001b[0;32m--> 729\u001b[0m \u001b[38;5;28mformat\u001b[39m \u001b[38;5;241m=\u001b[39m \u001b[38;5;28mformat\u001b[39m \u001b[38;5;129;01mor\u001b[39;00m \u001b[43mfiletype\u001b[49m\u001b[43m(\u001b[49m\u001b[43mfilename\u001b[49m\u001b[43m,\u001b[49m\u001b[43m \u001b[49m\u001b[43mread\u001b[49m\u001b[38;5;241;43m=\u001b[39;49m\u001b[38;5;28;43misinstance\u001b[39;49m\u001b[43m(\u001b[49m\u001b[43mfilename\u001b[49m\u001b[43m,\u001b[49m\u001b[43m \u001b[49m\u001b[38;5;28;43mstr\u001b[39;49m\u001b[43m)\u001b[49m\u001b[43m)\u001b[49m\n\u001b[1;32m    731\u001b[0m io \u001b[38;5;241m=\u001b[39m get_ioformat(\u001b[38;5;28mformat\u001b[39m)\n\u001b[1;32m    732\u001b[0m \u001b[38;5;28;01mif\u001b[39;00m \u001b[38;5;28misinstance\u001b[39m(index, (\u001b[38;5;28mslice\u001b[39m, \u001b[38;5;28mstr\u001b[39m)):\n",
      "File \u001b[0;32m~/miniforge3/envs/pyscf/lib/python3.12/site-packages/ase/io/formats.py:938\u001b[0m, in \u001b[0;36mfiletype\u001b[0;34m(filename, read, guess)\u001b[0m\n\u001b[1;32m    935\u001b[0m     \u001b[38;5;28;01mraise\u001b[39;00m UnknownFileTypeError(\u001b[38;5;124m'\u001b[39m\u001b[38;5;124mEmpty file: \u001b[39m\u001b[38;5;124m'\u001b[39m \u001b[38;5;241m+\u001b[39m filename)    \u001b[38;5;66;03m# type: ignore\u001b[39;00m\n\u001b[1;32m    937\u001b[0m \u001b[38;5;28;01mtry\u001b[39;00m:\n\u001b[0;32m--> 938\u001b[0m     \u001b[38;5;28;01mreturn\u001b[39;00m \u001b[43mmatch_magic\u001b[49m\u001b[43m(\u001b[49m\u001b[43mdata\u001b[49m\u001b[43m)\u001b[49m\u001b[38;5;241m.\u001b[39mname\n\u001b[1;32m    939\u001b[0m \u001b[38;5;28;01mexcept\u001b[39;00m UnknownFileTypeError:\n\u001b[1;32m    940\u001b[0m     \u001b[38;5;28;01mpass\u001b[39;00m\n",
      "File \u001b[0;32m~/miniforge3/envs/pyscf/lib/python3.12/site-packages/ase/io/formats.py:841\u001b[0m, in \u001b[0;36mmatch_magic\u001b[0;34m(data)\u001b[0m\n\u001b[1;32m    839\u001b[0m data \u001b[38;5;241m=\u001b[39m data[:PEEK_BYTES]\n\u001b[1;32m    840\u001b[0m \u001b[38;5;28;01mfor\u001b[39;00m ioformat \u001b[38;5;129;01min\u001b[39;00m ioformats\u001b[38;5;241m.\u001b[39mvalues():\n\u001b[0;32m--> 841\u001b[0m     \u001b[38;5;28;01mif\u001b[39;00m \u001b[43mioformat\u001b[49m\u001b[38;5;241;43m.\u001b[39;49m\u001b[43mmatch_magic\u001b[49m\u001b[43m(\u001b[49m\u001b[43mdata\u001b[49m\u001b[43m)\u001b[49m:\n\u001b[1;32m    842\u001b[0m         \u001b[38;5;28;01mreturn\u001b[39;00m ioformat\n\u001b[1;32m    843\u001b[0m \u001b[38;5;28;01mraise\u001b[39;00m UnknownFileTypeError(\u001b[38;5;124m'\u001b[39m\u001b[38;5;124mCannot guess file type from contents\u001b[39m\u001b[38;5;124m'\u001b[39m)\n",
      "File \u001b[0;32m~/miniforge3/envs/pyscf/lib/python3.12/site-packages/ase/io/formats.py:245\u001b[0m, in \u001b[0;36mIOFormat.match_magic\u001b[0;34m(self, data)\u001b[0m\n\u001b[1;32m    242\u001b[0m     \u001b[38;5;28;01mreturn\u001b[39;00m match \u001b[38;5;129;01mis\u001b[39;00m \u001b[38;5;129;01mnot\u001b[39;00m \u001b[38;5;28;01mNone\u001b[39;00m\n\u001b[1;32m    244\u001b[0m \u001b[38;5;28;01mfrom\u001b[39;00m \u001b[38;5;21;01mfnmatch\u001b[39;00m \u001b[38;5;28;01mimport\u001b[39;00m fnmatchcase\n\u001b[0;32m--> 245\u001b[0m \u001b[38;5;28;01mreturn\u001b[39;00m \u001b[38;5;28;43many\u001b[39;49m\u001b[43m(\u001b[49m\u001b[43mfnmatchcase\u001b[49m\u001b[43m(\u001b[49m\u001b[43mdata\u001b[49m\u001b[43m,\u001b[49m\u001b[43m \u001b[49m\u001b[43mmagic\u001b[49m\u001b[43m \u001b[49m\u001b[38;5;241;43m+\u001b[39;49m\u001b[43m \u001b[49m\u001b[38;5;124;43mb\u001b[39;49m\u001b[38;5;124;43m'\u001b[39;49m\u001b[38;5;124;43m*\u001b[39;49m\u001b[38;5;124;43m'\u001b[39;49m\u001b[43m)\u001b[49m\u001b[43m  \u001b[49m\u001b[38;5;66;43;03m# type: ignore\u001b[39;49;00m\n\u001b[1;32m    246\u001b[0m \u001b[43m           \u001b[49m\u001b[38;5;28;43;01mfor\u001b[39;49;00m\u001b[43m \u001b[49m\u001b[43mmagic\u001b[49m\u001b[43m \u001b[49m\u001b[38;5;129;43;01min\u001b[39;49;00m\u001b[43m \u001b[49m\u001b[38;5;28;43mself\u001b[39;49m\u001b[38;5;241;43m.\u001b[39;49m\u001b[43mmagic\u001b[49m\u001b[43m)\u001b[49m\n",
      "File \u001b[0;32m~/miniforge3/envs/pyscf/lib/python3.12/site-packages/ase/io/formats.py:245\u001b[0m, in \u001b[0;36m<genexpr>\u001b[0;34m(.0)\u001b[0m\n\u001b[1;32m    242\u001b[0m     \u001b[38;5;28;01mreturn\u001b[39;00m match \u001b[38;5;129;01mis\u001b[39;00m \u001b[38;5;129;01mnot\u001b[39;00m \u001b[38;5;28;01mNone\u001b[39;00m\n\u001b[1;32m    244\u001b[0m \u001b[38;5;28;01mfrom\u001b[39;00m \u001b[38;5;21;01mfnmatch\u001b[39;00m \u001b[38;5;28;01mimport\u001b[39;00m fnmatchcase\n\u001b[0;32m--> 245\u001b[0m \u001b[38;5;28;01mreturn\u001b[39;00m \u001b[38;5;28many\u001b[39m(\u001b[43mfnmatchcase\u001b[49m\u001b[43m(\u001b[49m\u001b[43mdata\u001b[49m\u001b[43m,\u001b[49m\u001b[43m \u001b[49m\u001b[43mmagic\u001b[49m\u001b[43m \u001b[49m\u001b[38;5;241;43m+\u001b[39;49m\u001b[43m \u001b[49m\u001b[38;5;124;43mb\u001b[39;49m\u001b[38;5;124;43m'\u001b[39;49m\u001b[38;5;124;43m*\u001b[39;49m\u001b[38;5;124;43m'\u001b[39;49m\u001b[43m)\u001b[49m  \u001b[38;5;66;03m# type: ignore\u001b[39;00m\n\u001b[1;32m    246\u001b[0m            \u001b[38;5;28;01mfor\u001b[39;00m magic \u001b[38;5;129;01min\u001b[39;00m \u001b[38;5;28mself\u001b[39m\u001b[38;5;241m.\u001b[39mmagic)\n",
      "File \u001b[0;32m~/miniforge3/envs/pyscf/lib/python3.12/fnmatch.py:71\u001b[0m, in \u001b[0;36mfnmatchcase\u001b[0;34m(name, pat)\u001b[0m\n\u001b[1;32m     65\u001b[0m \u001b[38;5;250m\u001b[39m\u001b[38;5;124;03m\"\"\"Test whether FILENAME matches PATTERN, including case.\u001b[39;00m\n\u001b[1;32m     66\u001b[0m \n\u001b[1;32m     67\u001b[0m \u001b[38;5;124;03mThis is a version of fnmatch() which doesn't case-normalize\u001b[39;00m\n\u001b[1;32m     68\u001b[0m \u001b[38;5;124;03mits arguments.\u001b[39;00m\n\u001b[1;32m     69\u001b[0m \u001b[38;5;124;03m\"\"\"\u001b[39;00m\n\u001b[1;32m     70\u001b[0m match \u001b[38;5;241m=\u001b[39m _compile_pattern(pat)\n\u001b[0;32m---> 71\u001b[0m \u001b[38;5;28;01mreturn\u001b[39;00m \u001b[43mmatch\u001b[49m\u001b[43m(\u001b[49m\u001b[43mname\u001b[49m\u001b[43m)\u001b[49m \u001b[38;5;129;01mis\u001b[39;00m \u001b[38;5;129;01mnot\u001b[39;00m \u001b[38;5;28;01mNone\u001b[39;00m\n",
      "\u001b[0;31mTypeError\u001b[0m: cannot use a bytes pattern on a string-like object"
     ]
    }
   ],
   "source": [
    "import nglview as nv\n",
    "# Load the cube file\n",
    "from ase.io import read\n",
    "\n",
    "# Save the molecular geometry to an XYZ file\n",
    "xyz_file = 'benzene_opt.xyz'\n",
    "mol_eq.tofile(xyz_file, format = 'xyz')\n",
    "ase_mol = read(mol_string)\n",
    "\n",
    "cube_file_path = 'benzene_mol_17.cub'  # Replace with the path to your cube file\n",
    "view = nv.show_ase(ase_mol)\n",
    "\n",
    "# Add the cube file component to the view\n",
    "c1 = view.add_component(cube_file_path)\n",
    "\n",
    "view[1].add_surface(\n",
    "    isolevelType=\"value\",\n",
    "    color='blue',\n",
    "    opacity=0.5,\n",
    "    isolevel=0.05  # Adjust the isolevel for positive lobe visualization\n",
    ")\n",
    "\n",
    "# Add the surface representation for the negative values\n",
    "view[1].add_surface(\n",
    "    isolevelType=\"value\",\n",
    "    color='red',\n",
    "    opacity=0.5,\n",
    "    isolevel=-0.05  # Adjust the isolevel for negative lobe visualization\n",
    ")\n",
    "\n",
    "view.camera = 'orthographic'\n",
    "\n",
    "view"
   ]
  },
  {
   "cell_type": "markdown",
   "metadata": {},
   "source": [
    "- Imports `nglview` and `ase.io.read` for visualization.\n",
    "- Reads the optimized molecule from an XYZ file.\n",
    "- Loads the cube file for one of the orbitals and adds it to the NGLView viewer. **To visualise a new orbital, the file to be loaded needs to be changed**. Remember that the names of teh cube files follow the patter:  mol_name + orb_num + .cub\n",
    "- Adds surface representations for both positive (coloured in blue) and negative (coloured in red) lobes of the orbital density.\n",
    "- Changing the value of `isolevel` renders the orbitals larger or smaller. A too large value will render the orbital out of the box and, therefore, cut.\n",
    "- Sets the camera view to orthographic for a more natural visualisation\n",
    "- Finally displays the viewer.\n",
    "\n",
    "#### Displaying the Visualization\n",
    "- The final call `view` in the notebook will display the interactive NGLView widget, allowing users to visualize the molecular orbitals and the optimized structure of the benzene molecule."
   ]
  },
  {
   "cell_type": "code",
   "execution_count": null,
   "metadata": {},
   "outputs": [],
   "source": []
  }
 ],
 "metadata": {
  "kernelspec": {
   "display_name": "Python 3 (ipykernel)",
   "language": "python",
   "name": "python3"
  },
  "language_info": {
   "codemirror_mode": {
    "name": "ipython",
    "version": 3
   },
   "file_extension": ".py",
   "mimetype": "text/x-python",
   "name": "python",
   "nbconvert_exporter": "python",
   "pygments_lexer": "ipython3",
   "version": "3.12.3"
  }
 },
 "nbformat": 4,
 "nbformat_minor": 4
}
