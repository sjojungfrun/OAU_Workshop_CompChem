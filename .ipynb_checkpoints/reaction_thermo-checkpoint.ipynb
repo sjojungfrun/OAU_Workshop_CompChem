{
 "cells": [
  {
   "cell_type": "markdown",
   "metadata": {},
   "source": [
    "# Calculation of the Energy of a Chemical Reaction.\n",
    "\n",
    "In this exercise the energy of a chemical reaction is calculated. For that:\n",
    "1. The Geoemtries of both reactants an products needs to be optimised to place them at the bottom of the PES and assure that they correspond to minima of it.\n",
    "2. The Hessian is computed\n",
    "3. The Hessian is diagonalised and further processed to compute the vibrational frequencies\n",
    "4. The frequencies are processed to calculate the thermodynamic properties of each of the chemicals involved in the reaction\n",
    "5. The thermodynamics of the reaction is then computed\n",
    "\n",
    "As test reaction the reaction between CH3Cl + Br- -> CH3Br + Cl- reaction is chosen. This is a very classical, textbook reaction in which a group of the molecule, Cl, is substituted by an anion, Br-."
   ]
  },
  {
   "cell_type": "code",
   "execution_count": null,
   "metadata": {},
   "outputs": [],
   "source": [
    "! pip install pyscf geometric ase"
   ]
  },
  {
   "cell_type": "code",
   "execution_count": 5,
   "metadata": {},
   "outputs": [],
   "source": [
    "import numpy as np\n",
    "\n",
    "from pyscf import gto\n",
    "from pyscf.hessian import thermo\n",
    "\n",
    "from ase.units import Hartree, mol, kcal, Bohr\n",
    " \n",
    "\n",
    "def gen_mol(coords, basis='def2-svp', output='pyscf.log', charge=0):\n",
    "     mol = gto.Mole()\n",
    "     mol.atom = coords \n",
    "     mol.basis=basis\n",
    "     mol.output=output\n",
    "     mol.verbose = 4\n",
    "     mol.charge = charge\n",
    "     mol.build()\n",
    "     return mol\n",
    "\n",
    "\n",
    "def run_dft(mol, xc_func = 'b3lyp'):\n",
    "     mf = mol.KS()\n",
    "     mf.xc = xc_func\n",
    "     mf.max_cycle=300\n",
    "     mf.kernel()\n",
    "     return mf\n",
    "\n",
    "def calc_e(coords, basis = 'def2-svp', xc_func = 'b3lyp', charge = 0):\n",
    "     mol = gen_mol(coords, basis = basis, charge = charge)\n",
    "     mf = run_dft(mol, xc_func)\n",
    "     return mf  \n",
    "\n",
    "\n",
    "def calc_gradient(mf):\n",
    "     g = mf.Gradients().kernel()\n",
    "     return g\n",
    "\n",
    "\n",
    "def calc_hessian(mf):\n",
    "     h = mf.Hessian().kernel()\n",
    "     return h"
   ]
  },
  {
   "cell_type": "markdown",
   "metadata": {},
   "source": [
    "#### Defining Coordinates for Reactants and Products\n",
    "The code starts by defining the atomic coordinates for reactants and products of a chemical reaction using multi-line strings in XYZ format. This includes the positions of atoms in 3D space.\n",
    "\n",
    "- **`react_1_coords`**: Coordinates for the first reactant molecule, which is likely a chloroalkane.\n",
    "- **`react_2_coords`**: Coordinates for the second reactant molecule, which is a single bromine atom.\n",
    "- **`prod_1_coords`**: Coordinates for the first product molecule, which appears to be a bromoalkane.\n",
    "- **`prod_2_coords`**: Coordinates for the second product molecule, which is a single chlorine atom.\n",
    "\n",
    "#### Running DFT Calculations for Reactant 1\n",
    "```python\n",
    "mf_r1 = calc_e(react_1_coords)\n",
    "```\n",
    "- The function `calc_e` is called with the coordinates of the first reactant.\n",
    "- `calc_e` uses `gen_mol` to create a PySCF `Mole` object with the specified coordinates, basis set (`def2-svp`), and default charge.\n",
    "- Then, `run_dft` performs a DFT calculation on this molecule using the B3LYP exchange-correlation functional.\n",
    "- The result, stored in `mf_r1`, includes the DFT calculation data such as the total energy, molecular orbitals, and electronic density."
   ]
  },
  {
   "cell_type": "code",
   "execution_count": 6,
   "metadata": {},
   "outputs": [
    {
     "name": "stdout",
     "output_type": "stream",
     "text": [
      "output file: pyscf.log\n"
     ]
    },
    {
     "data": {
      "text/plain": [
       "-499.94631200342246"
      ]
     },
     "execution_count": 6,
     "metadata": {},
     "output_type": "execute_result"
    }
   ],
   "source": [
    "react_1_coords = '''\n",
    "C          0.96703        0.06510        0.06459\n",
    "Cl         2.73400        0.06509        0.06460\n",
    "H          0.61001        0.74875       -0.70875\n",
    "H          0.60999        0.39301        1.04331\n",
    "H          0.60999       -0.94645       -0.14080\n",
    "'''\n",
    "\n",
    "react_2_coords = '''\n",
    "Br         0.0            0.0             0.0\n",
    "'''\n",
    "\n",
    "prod_1_coords = '''\n",
    "C          1.05469        0.05756        0.05617\n",
    "Br         2.98956        0.05754        0.05618\n",
    "H          0.71598        0.90558       -0.54079\n",
    "H          0.71598        0.15053        1.08906\n",
    "H          0.71598       -0.88344       -0.37976\n",
    "'''\n",
    "\n",
    "prod_2_coords = '''\n",
    "Cl         0.0            0.0             0.0\n",
    "'''\n",
    "\n",
    "mf_r1 = calc_e(react_1_coords)\n",
    "mf_r1.e_tot"
   ]
  },
  {
   "cell_type": "markdown",
   "metadata": {},
   "source": [
    "\n",
    "### Additional Steps\n",
    "For a comprehensive analysis, similar steps would be taken for the other reactant and the products:\n",
    "1. **Calculate Energy for Reactant 2**:\n",
    "   ```python\n",
    "   mf_r2 = calc_e(react_2_coords)\n",
    "   ```\n",
    "   - This runs the DFT calculation for the second reactant, a single bromine atom.\n",
    "\n",
    "2. **Calculate Energy for Product 1**:\n",
    "   ```python\n",
    "   mf_p1 = calc_e(prod_1_coords)\n",
    "   ```\n",
    "   - This runs the DFT calculation for the first product molecule, which is a bromoalkane.\n",
    "\n",
    "3. **Calculate Energy for Product 2**:\n",
    "   ```python\n",
    "   mf_p2 = calc_e(prod_2_coords)\n",
    "   ```\n",
    "   - This runs the DFT calculation for the second product, a single chlorine atom.\n",
    "\n",
    "### Calculating Reaction Energies\n",
    "Once the energies of all reactants and products are obtained, you can calculate the reaction energy:\n",
    "\n",
    "```python\n",
    "reaction_energy = (mf_p1.e_tot + mf_p2.e_tot) - (mf_r1.e_tot + mf_r2.e_tot)\n",
    "print(f'Reaction energy: {reaction_energy} Hartree')\n",
    "```\n",
    "- This calculates the reaction energy by subtracting the total energies of the reactants from the total energies of the products.\n",
    "- The result is in Hartree units, a common energy unit in quantum chemistry."
   ]
  },
  {
   "cell_type": "code",
   "execution_count": 7,
   "metadata": {},
   "outputs": [
    {
     "name": "stdout",
     "output_type": "stream",
     "text": [
      "overwrite output file: pyscf.log\n"
     ]
    },
    {
     "data": {
      "text/plain": [
       "-2573.926779030482"
      ]
     },
     "execution_count": 7,
     "metadata": {},
     "output_type": "execute_result"
    }
   ],
   "source": [
    "mf_r2 = calc_e(react_2_coords, charge = -1)\n",
    "mf_r2.e_tot"
   ]
  },
  {
   "cell_type": "code",
   "execution_count": 8,
   "metadata": {},
   "outputs": [
    {
     "name": "stdout",
     "output_type": "stream",
     "text": [
      "overwrite output file: pyscf.log\n"
     ]
    },
    {
     "data": {
      "text/plain": [
       "-2613.7514462244962"
      ]
     },
     "execution_count": 8,
     "metadata": {},
     "output_type": "execute_result"
    }
   ],
   "source": [
    "mf_p1 = calc_e(prod_1_coords)\n",
    "mf_p1.e_tot"
   ]
  },
  {
   "cell_type": "code",
   "execution_count": 9,
   "metadata": {},
   "outputs": [
    {
     "name": "stdout",
     "output_type": "stream",
     "text": [
      "overwrite output file: pyscf.log\n"
     ]
    },
    {
     "data": {
      "text/plain": [
       "-460.09249422474187"
      ]
     },
     "execution_count": 9,
     "metadata": {},
     "output_type": "execute_result"
    }
   ],
   "source": [
    "mf_p2 = calc_e(prod_2_coords, charge = -1)\n",
    "mf_p2.e_tot"
   ]
  },
  {
   "cell_type": "markdown",
   "metadata": {},
   "source": [
    "#### Geometry Optimization of a Molecule\n",
    "\n",
    "To ensure that the molecule is a the bottom of the potential energy surface and in a true minimum of it, an optimisation of the nuclear coordinates is needed. The code provided performs geometry optimization on a molecule and then runs a DFT calculation on the optimized geometry. Here is a step-by-step explanation of what each part of the code does.\n",
    "\n",
    "#### Importing the Optimization Function\n"
   ]
  },
  {
   "cell_type": "code",
   "execution_count": 10,
   "metadata": {},
   "outputs": [],
   "source": [
    "from pyscf.geomopt.geometric_solver import optimize"
   ]
  },
  {
   "cell_type": "markdown",
   "metadata": {},
   "source": [
    "- This line imports the `optimize` function from the `pyscf.geomopt.geometric_solver` module.\n",
    "- The `optimize` function is used to find the equilibrium geometry of a molecule by minimizing its energy.\n",
    "\n",
    "#### Optimizing the Molecular Geometry\n",
    "\n",
    "```python\n",
    "mol_eq = optimize(my_mf, maxsteps=100)\n",
    "```"
   ]
  },
  {
   "cell_type": "markdown",
   "metadata": {},
   "source": [
    "- The `optimize` function is called with `my_mf`, which is the result of a previous DFT calculation.\n",
    "- `maxsteps=100` specifies the maximum number of optimization steps.\n",
    "- The function returns `mol_eq`, which is the optimized molecular geometry.\n",
    "\n",
    "#### Running DFT Calculation on the Optimized Geometry\n",
    "```python\n",
    "mf_eq = run_dft(mol_eq)\n",
    "print(mol_eq.atom_coords())\n",
    "```"
   ]
  },
  {
   "cell_type": "markdown",
   "metadata": {},
   "source": [
    "- The `run_dft` function (defined previously) is called with `mol_eq`.\n",
    "- This function performs a DFT calculation on the optimized geometry.\n",
    "- The result, stored in `mf_eq`, contains the DFT calculation data for the optimized molecule.\n",
    "\n",
    "This call is mainly performed to generate a `mf` object of the optimised geometry over which further processing work can be done.\n",
    "\n",
    "Finally, `mol_eq.atom_coords()` returns the coordinates of the atoms in the optimized structure."
   ]
  },
  {
   "cell_type": "code",
   "execution_count": 11,
   "metadata": {},
   "outputs": [
    {
     "name": "stderr",
     "output_type": "stream",
     "text": [
      "geometric-optimize called with the following command line:\n",
      "/Users/Josete/miniforge3/envs/pyscf/lib/python3.12/site-packages/ipykernel_launcher.py -f /Users/Josete/Library/Jupyter/runtime/kernel-5af4c74c-9c3a-4c37-99e8-be9e0b8fb524.json\n",
      "\n",
      "                                        \u001b[91m())))))))))))))))/\u001b[0m                     \n",
      "                                    \u001b[91m())))))))))))))))))))))))),\u001b[0m                \n",
      "                                \u001b[91m*)))))))))))))))))))))))))))))))))\u001b[0m             \n",
      "                        \u001b[94m#,\u001b[0m    \u001b[91m()))))))))/\u001b[0m                \u001b[91m.)))))))))),\u001b[0m          \n",
      "                      \u001b[94m#%%%%,\u001b[0m  \u001b[91m())))))\u001b[0m                        \u001b[91m.))))))))*\u001b[0m        \n",
      "                      \u001b[94m*%%%%%%,\u001b[0m  \u001b[91m))\u001b[0m              \u001b[93m..\u001b[0m              \u001b[91m,))))))).\u001b[0m      \n",
      "                        \u001b[94m*%%%%%%,\u001b[0m         \u001b[93m***************/.\u001b[0m        \u001b[91m.)))))))\u001b[0m     \n",
      "                \u001b[94m#%%/\u001b[0m      \u001b[94m(%%%%%%,\u001b[0m    \u001b[93m/*********************.\u001b[0m       \u001b[91m)))))))\u001b[0m    \n",
      "              \u001b[94m.%%%%%%#\u001b[0m      \u001b[94m*%%%%%%,\u001b[0m  \u001b[93m*******/,\u001b[0m     \u001b[93m**********,\u001b[0m      \u001b[91m.))))))\u001b[0m   \n",
      "                \u001b[94m.%%%%%%/\u001b[0m      \u001b[94m*%%%%%%,\u001b[0m  \u001b[93m**\u001b[0m              \u001b[93m********\u001b[0m      \u001b[91m.))))))\u001b[0m  \n",
      "          \u001b[94m##\u001b[0m      \u001b[94m.%%%%%%/\u001b[0m      \u001b[94m(%%%%%%,\u001b[0m                  \u001b[93m,******\u001b[0m      \u001b[91m/)))))\u001b[0m  \n",
      "        \u001b[94m%%%%%%\u001b[0m      \u001b[94m.%%%%%%#\u001b[0m      \u001b[94m*%%%%%%,\u001b[0m    \u001b[92m,/////.\u001b[0m       \u001b[93m******\u001b[0m      \u001b[91m))))))\u001b[0m \n",
      "      \u001b[94m#%\u001b[0m      \u001b[94m%%\u001b[0m      \u001b[94m.%%%%%%/\u001b[0m      \u001b[94m*%%%%%%,\u001b[0m  \u001b[92m////////,\u001b[0m      \u001b[93m*****/\u001b[0m     \u001b[91m,)))))\u001b[0m \n",
      "    \u001b[94m#%%\u001b[0m  \u001b[94m%%%\u001b[0m  \u001b[94m%%%#\u001b[0m      \u001b[94m.%%%%%%/\u001b[0m      \u001b[94m(%%%%%%,\u001b[0m  \u001b[92m///////.\u001b[0m     \u001b[93m/*****\u001b[0m      \u001b[91m))))).\u001b[0m\n",
      "  \u001b[94m#%%%%.\u001b[0m      \u001b[94m%%%%%#\u001b[0m      \u001b[94m/%%%%%%*\u001b[0m      \u001b[94m#%%%%%%\u001b[0m   \u001b[92m/////)\u001b[0m     \u001b[93m******\u001b[0m      \u001b[91m))))),\u001b[0m\n",
      "    \u001b[94m#%%%%##%\u001b[0m  \u001b[94m%%%#\u001b[0m      \u001b[94m.%%%%%%/\u001b[0m      \u001b[94m(%%%%%%,\u001b[0m  \u001b[92m///////.\u001b[0m     \u001b[93m/*****\u001b[0m      \u001b[91m))))).\u001b[0m\n",
      "      \u001b[94m##\u001b[0m     \u001b[94m%%%\u001b[0m      \u001b[94m.%%%%%%/\u001b[0m      \u001b[94m*%%%%%%,\u001b[0m  \u001b[92m////////.\u001b[0m      \u001b[93m*****/\u001b[0m     \u001b[91m,)))))\u001b[0m \n",
      "        \u001b[94m#%%%%#\u001b[0m      \u001b[94m/%%%%%%/\u001b[0m      \u001b[94m(%%%%%%\u001b[0m      \u001b[92m/)/)//\u001b[0m       \u001b[93m******\u001b[0m      \u001b[91m))))))\u001b[0m \n",
      "          \u001b[94m##\u001b[0m      \u001b[94m.%%%%%%/\u001b[0m      \u001b[94m(%%%%%%,\u001b[0m                  \u001b[93m*******\u001b[0m      \u001b[91m))))))\u001b[0m  \n",
      "                \u001b[94m.%%%%%%/\u001b[0m      \u001b[94m*%%%%%%,\u001b[0m  \u001b[93m**.\u001b[0m             \u001b[93m/*******\u001b[0m      \u001b[91m.))))))\u001b[0m  \n",
      "              \u001b[94m*%%%%%%/\u001b[0m      \u001b[94m(%%%%%%\u001b[0m   \u001b[93m********/*..,*/*********\u001b[0m       \u001b[91m*))))))\u001b[0m   \n",
      "                \u001b[94m#%%/\u001b[0m      \u001b[94m(%%%%%%,\u001b[0m    \u001b[93m*********************/\u001b[0m        \u001b[91m)))))))\u001b[0m    \n",
      "                        \u001b[94m*%%%%%%,\u001b[0m         \u001b[93m,**************/\u001b[0m         \u001b[91m,))))))/\u001b[0m     \n",
      "                      \u001b[94m(%%%%%%\u001b[0m   \u001b[91m()\u001b[0m                              \u001b[91m))))))))\u001b[0m       \n",
      "                      \u001b[94m#%%%%,\u001b[0m  \u001b[91m())))))\u001b[0m                        \u001b[91m,)))))))),\u001b[0m        \n",
      "                        \u001b[94m#,\u001b[0m    \u001b[91m())))))))))\u001b[0m                \u001b[91m,)))))))))).\u001b[0m          \n",
      "                                 \u001b[91m()))))))))))))))))))))))))))))))/\u001b[0m             \n",
      "                                    \u001b[91m())))))))))))))))))))))))).\u001b[0m                \n",
      "                                         \u001b[91m())))))))))))))),\u001b[0m                     \n",
      "\n",
      "-=# \u001b[1;94m geomeTRIC started. Version: 1.0 \u001b[0m #=-\n",
      "Current date and time: 2024-05-31 10:05:33\n",
      "Custom engine selected.\n",
      "Bonds will be generated from interatomic distances less than 1.20 times sum of covalent radii\n",
      "15 internal coordinates being used (instead of 15 Cartesians)\n",
      "Internal coordinate system (atoms numbered from 1):\n",
      "Distance 1-2\n",
      "Distance 1-3\n",
      "Distance 1-4\n",
      "Distance 1-5\n",
      "Angle 2-1-3\n",
      "Angle 2-1-4\n",
      "Angle 2-1-5\n",
      "Angle 3-1-4\n",
      "Angle 3-1-5\n",
      "Angle 4-1-5\n",
      "Translation-X 1-5\n",
      "Translation-Y 1-5\n",
      "Translation-Z 1-5\n",
      "Rotation-A 1-5\n",
      "Rotation-B 1-5\n",
      "Rotation-C 1-5\n",
      "<class 'geometric.internal.Distance'> : 4\n",
      "<class 'geometric.internal.Angle'> : 6\n",
      "<class 'geometric.internal.TranslationX'> : 1\n",
      "<class 'geometric.internal.TranslationY'> : 1\n",
      "<class 'geometric.internal.TranslationZ'> : 1\n",
      "<class 'geometric.internal.RotationA'> : 1\n",
      "<class 'geometric.internal.RotationB'> : 1\n",
      "<class 'geometric.internal.RotationC'> : 1\n",
      "> ===== Optimization Info: ====\n",
      "> Job type: Energy minimization\n",
      "> Maximum number of optimization cycles: 300\n",
      "> Initial / maximum trust radius (Angstrom): 0.100 / 0.300\n",
      "> Convergence Criteria:\n",
      "> Will converge when all 5 criteria are reached:\n",
      ">  |Delta-E| < 1.00e-06\n",
      ">  RMS-Grad  < 3.00e-04\n",
      ">  Max-Grad  < 4.50e-04\n",
      ">  RMS-Disp  < 1.20e-03\n",
      ">  Max-Disp  < 1.80e-03\n",
      "> === End Optimization Info ===\n",
      "Step    0 : Gradient = 6.708e-03/1.195e-02 (rms/max) Energy = -499.9463120034\n",
      "Hessian Eigenvalues: 5.00000e-02 5.00000e-02 5.00000e-02 ... 3.45599e-01 3.45599e-01 3.45599e-01\n",
      "WARN: Large deviations found between the input molecule and the molecule from chkfile\n",
      "Initial guess density matrix may have large error.\n",
      "Step    1 : Displace = \u001b[0m1.159e-02\u001b[0m/\u001b[0m2.175e-02\u001b[0m (rms/max) Trust = 1.000e-01 (=) Grad = \u001b[0m1.819e-03\u001b[0m/\u001b[0m3.611e-03\u001b[0m (rms/max) E (change) = -499.9466431088 (\u001b[0m-3.311e-04\u001b[0m) Quality = \u001b[0m1.026\u001b[0m\n",
      "Hessian Eigenvalues: 4.99999e-02 5.00000e-02 5.00000e-02 ... 3.45599e-01 3.45599e-01 3.58219e-01\n",
      "Step    2 : Displace = \u001b[0m2.365e-03\u001b[0m/\u001b[0m3.719e-03\u001b[0m (rms/max) Trust = 1.414e-01 (\u001b[92m+\u001b[0m) Grad = \u001b[0m8.042e-04\u001b[0m/\u001b[0m1.566e-03\u001b[0m (rms/max) E (change) = -499.9466642963 (\u001b[0m-2.119e-05\u001b[0m) Quality = \u001b[0m1.356\u001b[0m\n",
      "Hessian Eigenvalues: 4.99952e-02 5.00000e-02 5.00000e-02 ... 3.45599e-01 3.45599e-01 3.57981e-01\n",
      "Step    3 : Displace = \u001b[0m1.219e-03\u001b[0m/\u001b[0m2.283e-03\u001b[0m (rms/max) Trust = 2.000e-01 (\u001b[92m+\u001b[0m) Grad = \u001b[92m4.718e-06\u001b[0m/\u001b[92m6.620e-06\u001b[0m (rms/max) E (change) = -499.9466681477 (\u001b[0m-3.851e-06\u001b[0m) Quality = \u001b[0m0.996\u001b[0m\n",
      "Hessian Eigenvalues: 4.99741e-02 5.00000e-02 5.00000e-02 ... 3.45599e-01 3.45599e-01 3.57319e-01\n",
      "Step    4 : Displace = \u001b[92m1.147e-05\u001b[0m/\u001b[92m1.688e-05\u001b[0m (rms/max) Trust = 2.828e-01 (\u001b[92m+\u001b[0m) Grad = \u001b[92m2.188e-06\u001b[0m/\u001b[92m2.455e-06\u001b[0m (rms/max) E (change) = -499.9466681475 (\u001b[92m+2.016e-10\u001b[0m) Quality = \u001b[91m-0.385\u001b[0m\n",
      "Hessian Eigenvalues: 4.99741e-02 5.00000e-02 5.00000e-02 ... 3.45599e-01 3.45599e-01 3.57319e-01\n",
      "Converged! =D\n",
      "\n",
      "    #==========================================================================#\n",
      "    #| If this code has benefited your research, please support us by citing: |#\n",
      "    #|                                                                        |#\n",
      "    #| Wang, L.-P.; Song, C.C. (2016) \"Geometry optimization made simple with |#\n",
      "    #| translation and rotation coordinates\", J. Chem, Phys. 144, 214108.     |#\n",
      "    #| http://dx.doi.org/10.1063/1.4952956                                    |#\n",
      "    #==========================================================================#\n",
      "    Time elapsed since start of run_optimizer: 14.209 seconds\n"
     ]
    },
    {
     "data": {
      "text/plain": [
       "array([[ 1.81532724,  0.1232067 ,  0.12211547],\n",
       "       [ 5.20675941,  0.1232153 ,  0.12193993],\n",
       "       [ 1.14245794,  1.42241541, -1.34765009],\n",
       "       [ 1.14262013,  0.74648643,  1.98219527],\n",
       "       [ 1.14250336, -1.79927955, -0.26809875]])"
      ]
     },
     "execution_count": 11,
     "metadata": {},
     "output_type": "execute_result"
    }
   ],
   "source": [
    "mol_r1_min = optimize(mf_r1,maxsteps=100)\n",
    "mol_r1_min.atom_coords()"
   ]
  },
  {
   "cell_type": "markdown",
   "metadata": {},
   "source": [
    "Now, as before, a `mf` object for the optimised molecule is created for further processing. The attribute `e_tot` prints the electronic energy of the optimised molecule `mf_r1_min`."
   ]
  },
  {
   "cell_type": "code",
   "execution_count": 12,
   "metadata": {},
   "outputs": [
    {
     "data": {
      "text/plain": [
       "-499.9466681476985"
      ]
     },
     "execution_count": 12,
     "metadata": {},
     "output_type": "execute_result"
    }
   ],
   "source": [
    "mf_r1_min = run_dft(mol_r1_min)\n",
    "mf_r1_min.e_tot"
   ]
  },
  {
   "cell_type": "markdown",
   "metadata": {},
   "source": [
    "### Calculation of the Hessian matrix for thermodynamical analysis\n",
    "\n",
    "Once the molecules are in the minimum of the PES, the harmonic approximation can be applied and the frequencies of the molecular vibrations can be calculated by the diagnalisation of the Hessian matrix. The Hessian matrix for both reactants is build and stored in `h_r1` and `h_r2`, respectively"
   ]
  },
  {
   "cell_type": "code",
   "execution_count": 18,
   "metadata": {},
   "outputs": [],
   "source": [
    "h_r1 = calc_hessian(mf_r1_min)"
   ]
  },
  {
   "cell_type": "code",
   "execution_count": 19,
   "metadata": {},
   "outputs": [],
   "source": [
    "h_r2 = calc_hessian(mf_r2)"
   ]
  },
  {
   "cell_type": "markdown",
   "metadata": {},
   "source": [
    "### Optimisation and Hessian calculation for the products\n",
    "\n",
    "The same procedure is repeated for the products. As the second product is only a Cl$^-$ anion, no geometry optimistion is needed. Therefore only the geometry of the first product is optimised and stored in the `mol_p1_min` object. The Hessians for the product will be stored in `h_p1` and `h_p2` respectively."
   ]
  },
  {
   "cell_type": "code",
   "execution_count": 17,
   "metadata": {},
   "outputs": [
    {
     "name": "stderr",
     "output_type": "stream",
     "text": [
      "geometric-optimize called with the following command line:\n",
      "/Users/Josete/miniforge3/envs/pyscf/lib/python3.12/site-packages/ipykernel_launcher.py -f /Users/Josete/Library/Jupyter/runtime/kernel-5af4c74c-9c3a-4c37-99e8-be9e0b8fb524.json\n",
      "\n",
      "                                        \u001b[91m())))))))))))))))/\u001b[0m                     \n",
      "                                    \u001b[91m())))))))))))))))))))))))),\u001b[0m                \n",
      "                                \u001b[91m*)))))))))))))))))))))))))))))))))\u001b[0m             \n",
      "                        \u001b[94m#,\u001b[0m    \u001b[91m()))))))))/\u001b[0m                \u001b[91m.)))))))))),\u001b[0m          \n",
      "                      \u001b[94m#%%%%,\u001b[0m  \u001b[91m())))))\u001b[0m                        \u001b[91m.))))))))*\u001b[0m        \n",
      "                      \u001b[94m*%%%%%%,\u001b[0m  \u001b[91m))\u001b[0m              \u001b[93m..\u001b[0m              \u001b[91m,))))))).\u001b[0m      \n",
      "                        \u001b[94m*%%%%%%,\u001b[0m         \u001b[93m***************/.\u001b[0m        \u001b[91m.)))))))\u001b[0m     \n",
      "                \u001b[94m#%%/\u001b[0m      \u001b[94m(%%%%%%,\u001b[0m    \u001b[93m/*********************.\u001b[0m       \u001b[91m)))))))\u001b[0m    \n",
      "              \u001b[94m.%%%%%%#\u001b[0m      \u001b[94m*%%%%%%,\u001b[0m  \u001b[93m*******/,\u001b[0m     \u001b[93m**********,\u001b[0m      \u001b[91m.))))))\u001b[0m   \n",
      "                \u001b[94m.%%%%%%/\u001b[0m      \u001b[94m*%%%%%%,\u001b[0m  \u001b[93m**\u001b[0m              \u001b[93m********\u001b[0m      \u001b[91m.))))))\u001b[0m  \n",
      "          \u001b[94m##\u001b[0m      \u001b[94m.%%%%%%/\u001b[0m      \u001b[94m(%%%%%%,\u001b[0m                  \u001b[93m,******\u001b[0m      \u001b[91m/)))))\u001b[0m  \n",
      "        \u001b[94m%%%%%%\u001b[0m      \u001b[94m.%%%%%%#\u001b[0m      \u001b[94m*%%%%%%,\u001b[0m    \u001b[92m,/////.\u001b[0m       \u001b[93m******\u001b[0m      \u001b[91m))))))\u001b[0m \n",
      "      \u001b[94m#%\u001b[0m      \u001b[94m%%\u001b[0m      \u001b[94m.%%%%%%/\u001b[0m      \u001b[94m*%%%%%%,\u001b[0m  \u001b[92m////////,\u001b[0m      \u001b[93m*****/\u001b[0m     \u001b[91m,)))))\u001b[0m \n",
      "    \u001b[94m#%%\u001b[0m  \u001b[94m%%%\u001b[0m  \u001b[94m%%%#\u001b[0m      \u001b[94m.%%%%%%/\u001b[0m      \u001b[94m(%%%%%%,\u001b[0m  \u001b[92m///////.\u001b[0m     \u001b[93m/*****\u001b[0m      \u001b[91m))))).\u001b[0m\n",
      "  \u001b[94m#%%%%.\u001b[0m      \u001b[94m%%%%%#\u001b[0m      \u001b[94m/%%%%%%*\u001b[0m      \u001b[94m#%%%%%%\u001b[0m   \u001b[92m/////)\u001b[0m     \u001b[93m******\u001b[0m      \u001b[91m))))),\u001b[0m\n",
      "    \u001b[94m#%%%%##%\u001b[0m  \u001b[94m%%%#\u001b[0m      \u001b[94m.%%%%%%/\u001b[0m      \u001b[94m(%%%%%%,\u001b[0m  \u001b[92m///////.\u001b[0m     \u001b[93m/*****\u001b[0m      \u001b[91m))))).\u001b[0m\n",
      "      \u001b[94m##\u001b[0m     \u001b[94m%%%\u001b[0m      \u001b[94m.%%%%%%/\u001b[0m      \u001b[94m*%%%%%%,\u001b[0m  \u001b[92m////////.\u001b[0m      \u001b[93m*****/\u001b[0m     \u001b[91m,)))))\u001b[0m \n",
      "        \u001b[94m#%%%%#\u001b[0m      \u001b[94m/%%%%%%/\u001b[0m      \u001b[94m(%%%%%%\u001b[0m      \u001b[92m/)/)//\u001b[0m       \u001b[93m******\u001b[0m      \u001b[91m))))))\u001b[0m \n",
      "          \u001b[94m##\u001b[0m      \u001b[94m.%%%%%%/\u001b[0m      \u001b[94m(%%%%%%,\u001b[0m                  \u001b[93m*******\u001b[0m      \u001b[91m))))))\u001b[0m  \n",
      "                \u001b[94m.%%%%%%/\u001b[0m      \u001b[94m*%%%%%%,\u001b[0m  \u001b[93m**.\u001b[0m             \u001b[93m/*******\u001b[0m      \u001b[91m.))))))\u001b[0m  \n",
      "              \u001b[94m*%%%%%%/\u001b[0m      \u001b[94m(%%%%%%\u001b[0m   \u001b[93m********/*..,*/*********\u001b[0m       \u001b[91m*))))))\u001b[0m   \n",
      "                \u001b[94m#%%/\u001b[0m      \u001b[94m(%%%%%%,\u001b[0m    \u001b[93m*********************/\u001b[0m        \u001b[91m)))))))\u001b[0m    \n",
      "                        \u001b[94m*%%%%%%,\u001b[0m         \u001b[93m,**************/\u001b[0m         \u001b[91m,))))))/\u001b[0m     \n",
      "                      \u001b[94m(%%%%%%\u001b[0m   \u001b[91m()\u001b[0m                              \u001b[91m))))))))\u001b[0m       \n",
      "                      \u001b[94m#%%%%,\u001b[0m  \u001b[91m())))))\u001b[0m                        \u001b[91m,)))))))),\u001b[0m        \n",
      "                        \u001b[94m#,\u001b[0m    \u001b[91m())))))))))\u001b[0m                \u001b[91m,)))))))))).\u001b[0m          \n",
      "                                 \u001b[91m()))))))))))))))))))))))))))))))/\u001b[0m             \n",
      "                                    \u001b[91m())))))))))))))))))))))))).\u001b[0m                \n",
      "                                         \u001b[91m())))))))))))))),\u001b[0m                     \n",
      "\n",
      "-=# \u001b[1;94m geomeTRIC started. Version: 1.0 \u001b[0m #=-\n",
      "Current date and time: 2024-05-31 10:07:28\n",
      "Custom engine selected.\n",
      "Bonds will be generated from interatomic distances less than 1.20 times sum of covalent radii\n",
      "15 internal coordinates being used (instead of 15 Cartesians)\n",
      "Internal coordinate system (atoms numbered from 1):\n",
      "Distance 1-2\n",
      "Distance 1-3\n",
      "Distance 1-4\n",
      "Distance 1-5\n",
      "Angle 2-1-3\n",
      "Angle 2-1-4\n",
      "Angle 2-1-5\n",
      "Angle 3-1-4\n",
      "Angle 3-1-5\n",
      "Angle 4-1-5\n",
      "Translation-X 1-5\n",
      "Translation-Y 1-5\n",
      "Translation-Z 1-5\n",
      "Rotation-A 1-5\n",
      "Rotation-B 1-5\n",
      "Rotation-C 1-5\n",
      "<class 'geometric.internal.Distance'> : 4\n",
      "<class 'geometric.internal.Angle'> : 6\n",
      "<class 'geometric.internal.TranslationX'> : 1\n",
      "<class 'geometric.internal.TranslationY'> : 1\n",
      "<class 'geometric.internal.TranslationZ'> : 1\n",
      "<class 'geometric.internal.RotationA'> : 1\n",
      "<class 'geometric.internal.RotationB'> : 1\n",
      "<class 'geometric.internal.RotationC'> : 1\n",
      "> ===== Optimization Info: ====\n",
      "> Job type: Energy minimization\n",
      "> Maximum number of optimization cycles: 300\n",
      "> Initial / maximum trust radius (Angstrom): 0.100 / 0.300\n",
      "> Convergence Criteria:\n",
      "> Will converge when all 5 criteria are reached:\n",
      ">  |Delta-E| < 1.00e-06\n",
      ">  RMS-Grad  < 3.00e-04\n",
      ">  Max-Grad  < 4.50e-04\n",
      ">  RMS-Disp  < 1.20e-03\n",
      ">  Max-Disp  < 1.80e-03\n",
      "> === End Optimization Info ===\n",
      "Step    0 : Gradient = 4.125e-03/6.847e-03 (rms/max) Energy = -2613.7514462245\n",
      "Hessian Eigenvalues: 5.00000e-02 5.00000e-02 5.00000e-02 ... 3.46995e-01 3.47000e-01 3.47004e-01\n",
      "WARN: Large deviations found between the input molecule and the molecule from chkfile\n",
      "Initial guess density matrix may have large error.\n",
      "Step    1 : Displace = \u001b[0m1.108e-02\u001b[0m/\u001b[0m2.086e-02\u001b[0m (rms/max) Trust = 1.000e-01 (=) Grad = \u001b[0m7.033e-04\u001b[0m/\u001b[0m1.174e-03\u001b[0m (rms/max) E (change) = -2613.7516071261 (\u001b[0m-1.609e-04\u001b[0m) Quality = \u001b[0m0.818\u001b[0m\n",
      "Hessian Eigenvalues: 4.99991e-02 5.00000e-02 5.00000e-02 ... 3.38265e-01 3.46997e-01 3.47002e-01\n",
      "Step    2 : Displace = \u001b[0m2.495e-03\u001b[0m/\u001b[0m4.014e-03\u001b[0m (rms/max) Trust = 1.414e-01 (\u001b[92m+\u001b[0m) Grad = \u001b[92m2.240e-04\u001b[0m/\u001b[92m4.221e-04\u001b[0m (rms/max) E (change) = -2613.7516155457 (\u001b[0m-8.420e-06\u001b[0m) Quality = \u001b[0m1.039\u001b[0m\n",
      "Hessian Eigenvalues: 4.99789e-02 5.00000e-02 5.00000e-02 ... 3.39651e-01 3.46997e-01 3.47002e-01\n",
      "Step    3 : Displace = \u001b[92m2.435e-04\u001b[0m/\u001b[92m4.282e-04\u001b[0m (rms/max) Trust = 2.000e-01 (\u001b[92m+\u001b[0m) Grad = \u001b[92m6.996e-05\u001b[0m/\u001b[92m1.366e-04\u001b[0m (rms/max) E (change) = -2613.7516158144 (\u001b[92m-2.688e-07\u001b[0m) Quality = \u001b[0m1.248\u001b[0m\n",
      "Hessian Eigenvalues: 4.99789e-02 5.00000e-02 5.00000e-02 ... 3.39651e-01 3.46997e-01 3.47002e-01\n",
      "Converged! =D\n",
      "\n",
      "    #==========================================================================#\n",
      "    #| If this code has benefited your research, please support us by citing: |#\n",
      "    #|                                                                        |#\n",
      "    #| Wang, L.-P.; Song, C.C. (2016) \"Geometry optimization made simple with |#\n",
      "    #| translation and rotation coordinates\", J. Chem, Phys. 144, 214108.     |#\n",
      "    #| http://dx.doi.org/10.1063/1.4952956                                    |#\n",
      "    #==========================================================================#\n",
      "    Time elapsed since start of run_optimizer: 23.080 seconds\n"
     ]
    },
    {
     "data": {
      "text/plain": [
       "array([[ 1.98991251,  0.10879806,  0.10616901],\n",
       "       [ 5.6803099 ,  0.10871457,  0.10618182],\n",
       "       [ 1.34254908,  1.71745511, -1.02625799],\n",
       "       [ 1.34251626,  0.28519417,  2.06550839],\n",
       "       [ 1.34249373, -1.67622489, -0.72074655]])"
      ]
     },
     "execution_count": 17,
     "metadata": {},
     "output_type": "execute_result"
    }
   ],
   "source": [
    "mol_p1_min = optimize(mf_p1, maxsteps=100)\n",
    "mol_p1_min.atom_coords()"
   ]
  },
  {
   "cell_type": "code",
   "execution_count": 20,
   "metadata": {},
   "outputs": [
    {
     "data": {
      "text/plain": [
       "-2613.7516158144854"
      ]
     },
     "execution_count": 20,
     "metadata": {},
     "output_type": "execute_result"
    }
   ],
   "source": [
    "mf_p1_min = run_dft(mol_p1_min)\n",
    "mf_p1_min.e_tot"
   ]
  },
  {
   "cell_type": "code",
   "execution_count": 21,
   "metadata": {},
   "outputs": [],
   "source": [
    "h_p1 = calc_hessian(mf_p1_min)"
   ]
  },
  {
   "cell_type": "code",
   "execution_count": 22,
   "metadata": {},
   "outputs": [],
   "source": [
    "h_p2 = calc_hessian(mf_p2)"
   ]
  },
  {
   "cell_type": "markdown",
   "metadata": {},
   "source": [
    "### Calculation of the Thermodynamics of the System"
   ]
  },
  {
   "cell_type": "code",
   "execution_count": 23,
   "metadata": {},
   "outputs": [
    {
     "data": {
      "text/plain": [
       "-313695.2920172037"
      ]
     },
     "execution_count": 23,
     "metadata": {},
     "output_type": "execute_result"
    }
   ],
   "source": [
    "def thermodynamics(mf, h, T = 298.15, p = 1, kJ = False):\n",
    "    pressure = int(p * 101325)\n",
    "    \n",
    "    freq_info = thermo.harmonic_analysis(mf.mol, h)\n",
    "    thermo_info = thermo.thermo(mf, freq_info['freq_au'], T, pressure)\n",
    "    \n",
    "    energy_conversion = Hartree * mol/kcal if not kJ else Hartree * mol/kJ \n",
    "    \n",
    "    H = thermo_info['H_tot'][0] * energy_conversion\n",
    "    G = thermo_info['G_tot'][0] * energy_conversion\n",
    "    \n",
    "    return G, H\n",
    "\n",
    "G_r1, enthalpy_r1 = thermodynamics(mf_r1_min, h_r1)\n",
    "enthalpy_r1"
   ]
  },
  {
   "cell_type": "markdown",
   "metadata": {},
   "source": [
    "With the information of the Hessian matrix of the chemical species involved in the reaction, its thermodynamic properties, specifically Gibbs free energy and enthalpy, can be computing by using the PySCF quantum chemistry package. Here's a detailed explanation of each part of the code:\n",
    "\n",
    "#### Defining the Thermodynamics Function\n",
    "The `thermodynamics` function calculates the Gibbs free energy (G) and enthalpy (H) of a molecule at a given temperature and pressure using harmonic analysis.\n",
    "\n",
    "```python\n",
    "def thermodynamics(mf, h, T = 298.15, p = 1, kJ = False):\n",
    "```\n",
    "- **`mf`**: A PySCF mean-field object, which contains information about the molecule after a DFT calculation.\n",
    "- **`h`**: The Hessian matrix, which is used for vibrational frequency analysis.\n",
    "- **`T`**: Temperature in Kelvin, defaulting to 298.15 K (standard temperature).\n",
    "- **`p`**: Pressure in atmospheres, defaulting to 1 atm (standard pressure).\n",
    "- **`kJ`**: A boolean flag to specify whether the results should be in kJ/mol instead of kcal/mol.\n",
    "\n",
    "#### Converting Pressure to Pascals\n",
    "```python\n",
    "    pressure = int(p * 101325)\n",
    "```\n",
    "- Pressure is converted from atmospheres to Pascals because the internal calculations require SI units.\n",
    "\n",
    "#### Performing Harmonic Frequency Analysis\n",
    "```python\n",
    "    freq_info = thermo.harmonic_analysis(mf.mol, h)\n",
    "```\n",
    "- This line performs a harmonic frequency analysis on the molecule using the Hessian matrix `h`.\n",
    "- `freq_info` contains the vibrational frequencies in atomic units.\n",
    "\n",
    "#### Calculating Thermodynamic Properties\n",
    "```python\n",
    "    thermo_info = thermo.thermo(mf, freq_info['freq_au'], T, pressure)\n",
    "```\n",
    "- This line calculates various thermodynamic properties using the vibrational frequencies, temperature, and pressure.\n",
    "- `thermo_info` is a dictionary containing the thermodynamic properties.\n",
    "\n",
    "#### Energy Conversion Factor\n",
    "```python\n",
    "    energy_conversion = Hartree * mol/kcal if not kJ else Hartree * mol/kJ \n",
    "```\n",
    "- The energy conversion factor is set depending on whether the results should be in kcal/mol or kJ/mol.\n",
    "- `Hartree` is the unit of energy used in quantum chemistry calculations, and it is converted to kcal/mol or kJ/mol as required.\n",
    "\n",
    "#### Extracting and Converting Enthalpy and Gibbs Free Energy\n",
    "```python\n",
    "    H = thermo_info['H_tot'][0] * energy_conversion\n",
    "    G = thermo_info['G_tot'][0] * energy_conversion\n",
    "```\n",
    "- The total enthalpy (`H_tot`) and Gibbs free energy (`G_tot`) are extracted from `thermo_info` and converted to the desired units using the energy conversion factor.\n",
    "\n",
    "#### Returning the Results\n",
    "```python\n",
    "    return G, H\n",
    "```\n",
    "- The function returns the Gibbs free energy and enthalpy.\n",
    "\n",
    "### Using the Thermodynamics Function\n",
    "The function is called with the mean-field object and Hessian for a specific reactant.\n",
    "\n",
    "```python\n",
    "G_r1, enthalpy_r1 = thermodynamics(mf_r1_min, h_r1)\n",
    "enthalpy_r1\n",
    "```\n",
    "- **`mf_r1_min`**: The mean-field object for the optimized geometry of reactant 1.\n",
    "- **`h_r1`**: The Hessian matrix for reactant 1.\n",
    "- The function returns the Gibbs free energy (`G_r1`) and enthalpy (`enthalpy_r1`) for reactant 1.\n",
    "- `enthalpy_r1` is printed or returned as the final result.\n",
    "\n",
    "Putting all together, the code lookes like:"
   ]
  },
  {
   "cell_type": "code",
   "execution_count": 24,
   "metadata": {},
   "outputs": [
    {
     "data": {
      "text/plain": [
       "-1615161.9577286001"
      ]
     },
     "execution_count": 24,
     "metadata": {},
     "output_type": "execute_result"
    }
   ],
   "source": [
    "G_r2, enthalpy_r2 = thermodynamics(mf_r2, h_r2)\n",
    "enthalpy_r2"
   ]
  },
  {
   "cell_type": "code",
   "execution_count": 25,
   "metadata": {},
   "outputs": [
    {
     "data": {
      "text/plain": [
       "-1640128.1970200848"
      ]
     },
     "execution_count": 25,
     "metadata": {},
     "output_type": "execute_result"
    }
   ],
   "source": [
    "G_p1, enthalpy_p1 = thermodynamics(mf_p1_min, h_p1)\n",
    "enthalpy_p1"
   ]
  },
  {
   "cell_type": "code",
   "execution_count": 26,
   "metadata": {},
   "outputs": [
    {
     "data": {
      "text/plain": [
       "-288710.91777976416"
      ]
     },
     "execution_count": 26,
     "metadata": {},
     "output_type": "execute_result"
    }
   ],
   "source": [
    "G_p2, enthalpy_p2 = thermodynamics(mf_p2, h_p2)\n",
    "enthalpy_p2"
   ]
  },
  {
   "cell_type": "markdown",
   "metadata": {},
   "source": [
    "With this, the enthalpy of the reaction, `H_r` is obtained by substracting to the enthalpy of the products that of the reactants. The Gibb's free energy of the reaction, `G_r` is obtained in the same way."
   ]
  },
  {
   "cell_type": "code",
   "execution_count": 27,
   "metadata": {},
   "outputs": [
    {
     "name": "stdout",
     "output_type": "stream",
     "text": [
      "Reaction enthalpy: 18.1 kcal/mol\n"
     ]
    }
   ],
   "source": [
    "H_r = (enthalpy_p1 + enthalpy_p2) - (enthalpy_r1 + enthalpy_r2)\n",
    "print(f'Reaction enthalpy: {H_r:.1f} kcal/mol') "
   ]
  },
  {
   "cell_type": "code",
   "execution_count": 28,
   "metadata": {},
   "outputs": [
    {
     "name": "stdout",
     "output_type": "stream",
     "text": [
      "Reaction Gibbs free energy: 18.0 kcal/mol\n"
     ]
    }
   ],
   "source": [
    "G_r = (G_p1 + G_p2) - (G_r1 + G_r2)\n",
    "print(f'Reaction Gibbs free energy: {G_r:.1f} kcal/mol') "
   ]
  },
  {
   "cell_type": "code",
   "execution_count": 26,
   "metadata": {},
   "outputs": [
    {
     "name": "stdout",
     "output_type": "stream",
     "text": [
      "overwrite output file: pyscf.log\n"
     ]
    },
    {
     "data": {
      "text/plain": [
       "-3073.5105420050786"
      ]
     },
     "execution_count": 26,
     "metadata": {},
     "output_type": "execute_result"
    }
   ],
   "source": [
    "TS_coords = '''\n",
    "C          1.11301       -1.11634        1.82783\n",
    "H          1.99710       -1.52477        1.29647\n",
    "H          0.67412       -0.14780        1.51149\n",
    "H          0.66748       -1.67628        2.67562\n",
    "Cl         0.08622       -1.93448        0.74785\n",
    "Br         2.07972       -0.34655        2.84414\n",
    "'''\n",
    "\n",
    "mf_ts = calc_e(TS_coords, charge = -1)\n",
    "mf_ts.e_tot"
   ]
  },
  {
   "cell_type": "code",
   "execution_count": 27,
   "metadata": {},
   "outputs": [
    {
     "name": "stderr",
     "output_type": "stream",
     "text": [
      "geometric-optimize called with the following command line:\n",
      "/Users/Josete/miniforge3/envs/pyscf/lib/python3.12/site-packages/ipykernel_launcher.py -f /Users/Josete/Library/Jupyter/runtime/kernel-fabb3ff2-505c-43b0-8cc6-6977b180730a.json\n",
      "\n",
      "                                        \u001b[91m())))))))))))))))/\u001b[0m                     \n",
      "                                    \u001b[91m())))))))))))))))))))))))),\u001b[0m                \n",
      "                                \u001b[91m*)))))))))))))))))))))))))))))))))\u001b[0m             \n",
      "                        \u001b[94m#,\u001b[0m    \u001b[91m()))))))))/\u001b[0m                \u001b[91m.)))))))))),\u001b[0m          \n",
      "                      \u001b[94m#%%%%,\u001b[0m  \u001b[91m())))))\u001b[0m                        \u001b[91m.))))))))*\u001b[0m        \n",
      "                      \u001b[94m*%%%%%%,\u001b[0m  \u001b[91m))\u001b[0m              \u001b[93m..\u001b[0m              \u001b[91m,))))))).\u001b[0m      \n",
      "                        \u001b[94m*%%%%%%,\u001b[0m         \u001b[93m***************/.\u001b[0m        \u001b[91m.)))))))\u001b[0m     \n",
      "                \u001b[94m#%%/\u001b[0m      \u001b[94m(%%%%%%,\u001b[0m    \u001b[93m/*********************.\u001b[0m       \u001b[91m)))))))\u001b[0m    \n",
      "              \u001b[94m.%%%%%%#\u001b[0m      \u001b[94m*%%%%%%,\u001b[0m  \u001b[93m*******/,\u001b[0m     \u001b[93m**********,\u001b[0m      \u001b[91m.))))))\u001b[0m   \n",
      "                \u001b[94m.%%%%%%/\u001b[0m      \u001b[94m*%%%%%%,\u001b[0m  \u001b[93m**\u001b[0m              \u001b[93m********\u001b[0m      \u001b[91m.))))))\u001b[0m  \n",
      "          \u001b[94m##\u001b[0m      \u001b[94m.%%%%%%/\u001b[0m      \u001b[94m(%%%%%%,\u001b[0m                  \u001b[93m,******\u001b[0m      \u001b[91m/)))))\u001b[0m  \n",
      "        \u001b[94m%%%%%%\u001b[0m      \u001b[94m.%%%%%%#\u001b[0m      \u001b[94m*%%%%%%,\u001b[0m    \u001b[92m,/////.\u001b[0m       \u001b[93m******\u001b[0m      \u001b[91m))))))\u001b[0m \n",
      "      \u001b[94m#%\u001b[0m      \u001b[94m%%\u001b[0m      \u001b[94m.%%%%%%/\u001b[0m      \u001b[94m*%%%%%%,\u001b[0m  \u001b[92m////////,\u001b[0m      \u001b[93m*****/\u001b[0m     \u001b[91m,)))))\u001b[0m \n",
      "    \u001b[94m#%%\u001b[0m  \u001b[94m%%%\u001b[0m  \u001b[94m%%%#\u001b[0m      \u001b[94m.%%%%%%/\u001b[0m      \u001b[94m(%%%%%%,\u001b[0m  \u001b[92m///////.\u001b[0m     \u001b[93m/*****\u001b[0m      \u001b[91m))))).\u001b[0m\n",
      "  \u001b[94m#%%%%.\u001b[0m      \u001b[94m%%%%%#\u001b[0m      \u001b[94m/%%%%%%*\u001b[0m      \u001b[94m#%%%%%%\u001b[0m   \u001b[92m/////)\u001b[0m     \u001b[93m******\u001b[0m      \u001b[91m))))),\u001b[0m\n",
      "    \u001b[94m#%%%%##%\u001b[0m  \u001b[94m%%%#\u001b[0m      \u001b[94m.%%%%%%/\u001b[0m      \u001b[94m(%%%%%%,\u001b[0m  \u001b[92m///////.\u001b[0m     \u001b[93m/*****\u001b[0m      \u001b[91m))))).\u001b[0m\n",
      "      \u001b[94m##\u001b[0m     \u001b[94m%%%\u001b[0m      \u001b[94m.%%%%%%/\u001b[0m      \u001b[94m*%%%%%%,\u001b[0m  \u001b[92m////////.\u001b[0m      \u001b[93m*****/\u001b[0m     \u001b[91m,)))))\u001b[0m \n",
      "        \u001b[94m#%%%%#\u001b[0m      \u001b[94m/%%%%%%/\u001b[0m      \u001b[94m(%%%%%%\u001b[0m      \u001b[92m/)/)//\u001b[0m       \u001b[93m******\u001b[0m      \u001b[91m))))))\u001b[0m \n",
      "          \u001b[94m##\u001b[0m      \u001b[94m.%%%%%%/\u001b[0m      \u001b[94m(%%%%%%,\u001b[0m                  \u001b[93m*******\u001b[0m      \u001b[91m))))))\u001b[0m  \n",
      "                \u001b[94m.%%%%%%/\u001b[0m      \u001b[94m*%%%%%%,\u001b[0m  \u001b[93m**.\u001b[0m             \u001b[93m/*******\u001b[0m      \u001b[91m.))))))\u001b[0m  \n",
      "              \u001b[94m*%%%%%%/\u001b[0m      \u001b[94m(%%%%%%\u001b[0m   \u001b[93m********/*..,*/*********\u001b[0m       \u001b[91m*))))))\u001b[0m   \n",
      "                \u001b[94m#%%/\u001b[0m      \u001b[94m(%%%%%%,\u001b[0m    \u001b[93m*********************/\u001b[0m        \u001b[91m)))))))\u001b[0m    \n",
      "                        \u001b[94m*%%%%%%,\u001b[0m         \u001b[93m,**************/\u001b[0m         \u001b[91m,))))))/\u001b[0m     \n",
      "                      \u001b[94m(%%%%%%\u001b[0m   \u001b[91m()\u001b[0m                              \u001b[91m))))))))\u001b[0m       \n",
      "                      \u001b[94m#%%%%,\u001b[0m  \u001b[91m())))))\u001b[0m                        \u001b[91m,)))))))),\u001b[0m        \n",
      "                        \u001b[94m#,\u001b[0m    \u001b[91m())))))))))\u001b[0m                \u001b[91m,)))))))))).\u001b[0m          \n",
      "                                 \u001b[91m()))))))))))))))))))))))))))))))/\u001b[0m             \n",
      "                                    \u001b[91m())))))))))))))))))))))))).\u001b[0m                \n",
      "                                         \u001b[91m())))))))))))))),\u001b[0m                     \n",
      "\n",
      "-=# \u001b[1;94m geomeTRIC started. Version: 1.0 \u001b[0m #=-\n",
      "Current date and time: 2024-05-30 12:34:14\n",
      " Transition state optimization requested.\n",
      " Hessian will be computed on the first step.\n",
      "Custom engine selected.\n",
      "Requested bond order-based connectivity but it is not available in the current engine\n",
      "Bonds will be generated from interatomic distances less than 1.20 times sum of covalent radii\n",
      "18 internal coordinates being used (instead of 18 Cartesians)\n",
      "Internal coordinate system (atoms numbered from 1):\n",
      "Distance 1-2\n",
      "Distance 1-3\n",
      "Distance 1-4\n",
      "Distance 1-5\n",
      "Distance 1-6\n",
      "Angle 2-1-4\n",
      "Angle 2-1-6\n",
      "Angle 3-1-4\n",
      "Angle 3-1-6\n",
      "Angle 4-1-6\n",
      "LinearAngleX 5-1-6\n",
      "LinearAngleY 5-1-6\n",
      "Out-of-Plane 1-2-3-4\n",
      "Out-of-Plane 1-2-5-6\n",
      "Out-of-Plane 1-3-5-6\n",
      "Out-of-Plane 1-4-5-6\n",
      "Translation-X 1-6\n",
      "Translation-Y 1-6\n",
      "Translation-Z 1-6\n",
      "Rotation-A 1-6\n",
      "Rotation-B 1-6\n",
      "Rotation-C 1-6\n",
      "<class 'geometric.internal.Distance'> : 5\n",
      "<class 'geometric.internal.Angle'> : 5\n",
      "<class 'geometric.internal.LinearAngle'> : 2\n",
      "<class 'geometric.internal.OutOfPlane'> : 4\n",
      "<class 'geometric.internal.TranslationX'> : 1\n",
      "<class 'geometric.internal.TranslationY'> : 1\n",
      "<class 'geometric.internal.TranslationZ'> : 1\n",
      "<class 'geometric.internal.RotationA'> : 1\n",
      "<class 'geometric.internal.RotationB'> : 1\n",
      "<class 'geometric.internal.RotationC'> : 1\n",
      "> ===== Optimization Info: ====\n",
      "> Job type: Transition state optimization\n",
      "> Maximum number of optimization cycles: 300\n",
      "> Initial / maximum trust radius (Angstrom): 0.020 / 0.060\n",
      "> Convergence Criteria:\n",
      "> Will converge when all 5 criteria are reached:\n",
      ">  |Delta-E| < 1.00e-06\n",
      ">  RMS-Grad  < 3.00e-04\n",
      ">  Max-Grad  < 4.50e-04\n",
      ">  RMS-Disp  < 1.20e-03\n",
      ">  Max-Disp  < 1.80e-03\n",
      "> === End Optimization Info ===\n",
      "Valid Hessian data not found, calculating from scratch.\n",
      "Calculating Cartesian Hessian using finite difference on Cartesian gradients (36 grads total)\n",
      "0 / 36 gradient calculations complete\n",
      "copy_scratch not implemented for this engine\n",
      "copy_scratch not implemented for this engine\n",
      "copy_scratch not implemented for this engine\n",
      "copy_scratch not implemented for this engine\n",
      "copy_scratch not implemented for this engine\n",
      "copy_scratch not implemented for this engine\n",
      "copy_scratch not implemented for this engine\n",
      "copy_scratch not implemented for this engine\n",
      "copy_scratch not implemented for this engine\n",
      "copy_scratch not implemented for this engine\n",
      "10 / 36 gradient calculations complete\n",
      "copy_scratch not implemented for this engine\n",
      "copy_scratch not implemented for this engine\n",
      "copy_scratch not implemented for this engine\n",
      "copy_scratch not implemented for this engine\n",
      "copy_scratch not implemented for this engine\n",
      "copy_scratch not implemented for this engine\n",
      "copy_scratch not implemented for this engine\n",
      "copy_scratch not implemented for this engine\n",
      "copy_scratch not implemented for this engine\n",
      "copy_scratch not implemented for this engine\n",
      "20 / 36 gradient calculations complete\n",
      "copy_scratch not implemented for this engine\n",
      "copy_scratch not implemented for this engine\n",
      "copy_scratch not implemented for this engine\n",
      "copy_scratch not implemented for this engine\n",
      "copy_scratch not implemented for this engine\n",
      "copy_scratch not implemented for this engine\n",
      "copy_scratch not implemented for this engine\n",
      "copy_scratch not implemented for this engine\n",
      "copy_scratch not implemented for this engine\n",
      "copy_scratch not implemented for this engine\n",
      "30 / 36 gradient calculations complete\n",
      "copy_scratch not implemented for this engine\n",
      "copy_scratch not implemented for this engine\n",
      "copy_scratch not implemented for this engine\n",
      "copy_scratch not implemented for this engine\n",
      "copy_scratch not implemented for this engine\n",
      "copy_scratch not implemented for this engine\n",
      "36 / 36 gradient calculations complete\n",
      ">> Initial Cartesian Hessian Eigenvalues\n",
      "Hessian Eigenvalues:  -1.217e-01 -1.216e-01 -4.775e-02 -4.735e-02 -1.175e-02 -7.020e-04 -1.851e-04\n",
      " 4.989e-05  4.288e-02  4.314e-02  1.189e-01  1.585e-01    .....    6.409e-01  6.414e-01  1.280e+00\n",
      "\n",
      "== Summary of harmonic free energy analysis ==\n",
      "Note: Rotational symmetry is set to 1 regardless of true symmetry\n",
      "2 Imaginary Frequencies (cm^-1): 574.456i 567.859i\n",
      "Note: Free energy does not include contribution from imaginary mode(s)\n",
      "\n",
      "Free energy contributions calculated at @ 300.00 K:\n",
      "Zero-point vibrational energy:                                   23.5432 kcal/mol \n",
      "H   (Trans + Rot + Vib = Tot):   1.4904 +   0.8942 +   0.3669 =   2.7515 kcal/mol \n",
      "S   (Trans + Rot + Vib = Tot):  40.5659 +  24.0746 +   1.7163 =  66.3568 cal/mol/K\n",
      "TS  (Trans + Rot + Vib = Tot):  12.1698 +   7.2224 +   0.5149 =  19.9070 kcal/mol \n",
      "\n",
      "Ground State Electronic Energy    : E0                        = -3073.51054201 au (  -1928656.9837 kcal/mol)\n",
      "Free Energy Correction (Harmonic) : ZPVE + [H-TS]_T,R,V       =     0.01017933 au (         6.3876 kcal/mol)\n",
      "Gibbs Free Energy (Harmonic)      : E0 + ZPVE + [H-TS]_T,R,V  = -3073.50036268 au (  -1928650.5961 kcal/mol)\n",
      "\n",
      "Vibrational analysis written to /var/folders/_x/hdd0n3v13rgc0_p09wk_rwl40000gn/T/tmpr_4cn1pc/2f3ae099-2c92-4475-83b2-5753bd15ccbf.vdata_first\n",
      "Step    0 : Gradient = 2.238e-01/4.607e-01 (rms/max) Energy = -3073.5105420051\n",
      "Hessian Eigenvalues:  -7.832e-04 -3.476e-04 -2.368e-06  9.078e-05  1.441e-04  1.005e-03  3.381e-03\n",
      " 3.940e-03  9.733e-02  1.613e-01  1.908e-01  2.120e-01    .....    7.198e-01  7.210e-01  8.205e-01\n",
      "WARN: Large deviations found between the input molecule and the molecule from chkfile\n",
      "Initial guess density matrix may have large error.\n",
      "Step    1 : Displace = \u001b[0m2.001e-02\u001b[0m/\u001b[0m4.060e-02\u001b[0m (rms/max) Trust = 2.000e-02 (=) Grad = \u001b[0m1.974e-01\u001b[0m/\u001b[0m4.032e-01\u001b[0m (rms/max) E (change) = -3073.5568784255 (\u001b[0m-4.634e-02\u001b[0m) Quality = \u001b[0m0.997\u001b[0m\n",
      "Hessian Eigenvalues:  -6.372e-04 -1.616e-04  5.110e-05  1.266e-04  7.709e-04  2.914e-03  3.912e-03\n",
      " 4.491e-03  9.913e-02  1.613e-01  1.904e-01  2.117e-01    .....    7.197e-01  7.210e-01  7.758e-01\n",
      "WARN: Large deviations found between the input molecule and the molecule from chkfile\n",
      "Initial guess density matrix may have large error.\n",
      "Step    2 : Displace = \u001b[0m2.835e-02\u001b[0m/\u001b[0m5.631e-02\u001b[0m (rms/max) Trust = 2.828e-02 (\u001b[92m+\u001b[0m) Grad = \u001b[0m1.671e-01\u001b[0m/\u001b[0m3.373e-01\u001b[0m (rms/max) E (change) = -3073.6138272043 (\u001b[0m-5.695e-02\u001b[0m) Quality = \u001b[0m0.989\u001b[0m\n",
      "Hessian Eigenvalues:  -1.632e-04  5.066e-05  1.261e-04  7.697e-04  2.528e-03  3.909e-03  4.194e-03\n",
      " 1.398e-02  1.054e-01  1.613e-01  1.890e-01  2.108e-01    .....    6.892e-01  7.198e-01  7.210e-01\n",
      "WARN: Large deviations found between the input molecule and the molecule from chkfile\n",
      "Initial guess density matrix may have large error.\n",
      "Step    3 : Displace = \u001b[0m4.041e-02\u001b[0m/\u001b[0m7.821e-02\u001b[0m (rms/max) Trust = 4.000e-02 (\u001b[92m+\u001b[0m) Grad = \u001b[0m1.326e-01\u001b[0m/\u001b[0m2.634e-01\u001b[0m (rms/max) E (change) = -3073.6809058617 (\u001b[0m-6.708e-02\u001b[0m) Quality = \u001b[0m0.982\u001b[0m\n",
      "Hessian Eigenvalues:   5.038e-05  1.259e-04  7.623e-04  2.304e-03  3.891e-03  4.155e-03  8.722e-03\n",
      " 1.625e-02  1.160e-01  1.613e-01  1.896e-01  2.103e-01    .....    6.137e-01  7.198e-01  7.210e-01\n",
      "WARN: Large deviations found between the input molecule and the molecule from chkfile\n",
      "Initial guess density matrix may have large error.\n",
      "Step    4 : Displace = \u001b[0m5.834e-02\u001b[0m/\u001b[0m1.082e-01\u001b[0m (rms/max) Trust = 5.657e-02 (\u001b[92m+\u001b[0m) Grad = \u001b[0m9.385e-02\u001b[0m/\u001b[0m1.834e-01\u001b[0m (rms/max) E (change) = -3073.7538216757 (\u001b[0m-7.292e-02\u001b[0m) Quality = \u001b[0m0.970\u001b[0m\n",
      "Hessian Eigenvalues:   1.240e-04  7.117e-04  1.666e-03  3.877e-03  4.055e-03  6.844e-03  9.390e-03\n",
      " 1.626e-02  1.286e-01  1.613e-01  1.958e-01  2.115e-01    .....    5.706e-01  7.198e-01  7.210e-01\n",
      "WARN: Large deviations found between the input molecule and the molecule from chkfile\n",
      "Initial guess density matrix may have large error.\n",
      "Step    5 : Displace = \u001b[0m5.651e-02\u001b[0m/\u001b[0m1.024e-01\u001b[0m (rms/max) Trust = 6.000e-02 (\u001b[92m+\u001b[0m) Grad = \u001b[0m6.448e-02\u001b[0m/\u001b[0m1.250e-01\u001b[0m (rms/max) E (change) = -3073.8030229329 (\u001b[0m-4.920e-02\u001b[0m) Quality = \u001b[0m0.953\u001b[0m\n",
      "Hessian Eigenvalues:   6.049e-04  1.653e-03  2.592e-03  3.883e-03  6.221e-03  6.855e-03  9.601e-03\n",
      " 1.738e-02  1.365e-01  1.613e-01  2.026e-01  2.157e-01    .....    5.522e-01  7.198e-01  7.210e-01\n",
      "WARN: Large deviations found between the input molecule and the molecule from chkfile\n",
      "Initial guess density matrix may have large error.\n",
      "Step    6 : Displace = \u001b[0m5.942e-02\u001b[0m/\u001b[0m1.008e-01\u001b[0m (rms/max) Trust = 6.000e-02 (=) Grad = \u001b[0m4.262e-02\u001b[0m/\u001b[0m8.085e-02\u001b[0m (rms/max) E (change) = -3073.8353623788 (\u001b[0m-3.234e-02\u001b[0m) Quality = \u001b[0m0.924\u001b[0m\n",
      "Hessian Eigenvalues:  -1.327e-02  2.429e-03  3.878e-03  5.913e-03  6.777e-03  9.551e-03  1.712e-02\n",
      " 2.185e-02  1.399e-01  1.613e-01  2.033e-01  2.299e-01    .....    5.473e-01  7.198e-01  7.210e-01\n",
      "WARN: Large deviations found between the input molecule and the molecule from chkfile\n",
      "Initial guess density matrix may have large error.\n",
      "Step    7 : Displace = \u001b[0m5.996e-02\u001b[0m/\u001b[0m7.827e-02\u001b[0m (rms/max) Trust = 6.000e-02 (=) Grad = \u001b[0m3.470e-02\u001b[0m/\u001b[0m5.970e-02\u001b[0m (rms/max) E (change) = -3073.8456024491 (\u001b[0m-1.024e-02\u001b[0m) Quality = \u001b[0m0.949\u001b[0m\n",
      "Hessian Eigenvalues:  -3.874e-02  2.653e-03  4.753e-03  5.872e-03  7.371e-03  1.039e-02  1.711e-02\n",
      " 1.185e-01  1.400e-01  1.612e-01  1.767e-01  2.391e-01    .....    5.461e-01  7.198e-01  7.210e-01\n",
      "WARN: Large deviations found between the input molecule and the molecule from chkfile\n",
      "Initial guess density matrix may have large error.\n",
      "Step    8 : Displace = \u001b[0m6.041e-02\u001b[0m/\u001b[0m9.524e-02\u001b[0m (rms/max) Trust = 6.000e-02 (=) Grad = \u001b[0m2.234e-02\u001b[0m/\u001b[0m3.544e-02\u001b[0m (rms/max) E (change) = -3073.8605090706 (\u001b[0m-1.491e-02\u001b[0m) Quality = \u001b[0m0.981\u001b[0m\n",
      "Hessian Eigenvalues:  -2.542e-02  2.423e-03  4.794e-03  6.776e-03  9.842e-03  1.607e-02  2.531e-02\n",
      " 8.675e-02  1.357e-01  1.575e-01  1.614e-01  2.445e-01    .....    5.458e-01  7.198e-01  7.210e-01\n",
      "WARN: Large deviations found between the input molecule and the molecule from chkfile\n",
      "Initial guess density matrix may have large error.\n",
      "Step    9 : Displace = \u001b[0m6.122e-02\u001b[0m/\u001b[0m7.821e-02\u001b[0m (rms/max) Trust = 6.000e-02 (=) Grad = \u001b[0m1.312e-02\u001b[0m/\u001b[0m2.205e-02\u001b[0m (rms/max) E (change) = -3073.8689879833 (\u001b[0m-8.479e-03\u001b[0m) Quality = \u001b[0m0.779\u001b[0m\n",
      "Hessian Eigenvalues:  -3.551e-02  3.456e-03  5.678e-03  7.107e-03  9.837e-03  1.857e-02  2.583e-02\n",
      " 1.085e-01  1.384e-01  1.576e-01  1.625e-01  2.462e-01    .....    5.462e-01  7.198e-01  7.210e-01\n",
      "WARN: Large deviations found between the input molecule and the molecule from chkfile\n",
      "Initial guess density matrix may have large error.\n",
      "Step   10 : Displace = \u001b[0m5.650e-02\u001b[0m/\u001b[0m9.416e-02\u001b[0m (rms/max) Trust = 6.000e-02 (=) Grad = \u001b[0m7.019e-03\u001b[0m/\u001b[0m1.147e-02\u001b[0m (rms/max) E (change) = -3073.8731251212 (\u001b[0m-4.137e-03\u001b[0m) Quality = \u001b[0m0.976\u001b[0m\n",
      "Hessian Eigenvalues:  -3.688e-02  1.497e-03  5.855e-03  6.869e-03  9.630e-03  1.639e-02  3.038e-02\n",
      " 9.080e-02  1.388e-01  1.585e-01  1.622e-01  2.477e-01    .....    5.458e-01  7.198e-01  7.210e-01\n",
      "WARN: Large deviations found between the input molecule and the molecule from chkfile\n",
      "Initial guess density matrix may have large error.\n",
      "Step   11 : Displace = \u001b[0m5.987e-02\u001b[0m/\u001b[0m9.014e-02\u001b[0m (rms/max) Trust = 6.000e-02 (=) Grad = \u001b[0m1.218e-02\u001b[0m/\u001b[0m2.171e-02\u001b[0m (rms/max) E (change) = -3073.8721464389 (\u001b[91m+9.787e-04\u001b[0m) Quality = \u001b[91m-0.709\u001b[0m\n",
      "\u001b[93mRejecting step - quality is lower than 0.0\u001b[0m\n",
      "Hessian Eigenvalues:  -3.688e-02  1.497e-03  5.855e-03  6.869e-03  9.630e-03  1.639e-02  3.038e-02\n",
      " 9.080e-02  1.388e-01  1.585e-01  1.622e-01  2.477e-01    .....    5.458e-01  7.198e-01  7.210e-01\n",
      "WARN: Large deviations found between the input molecule and the molecule from chkfile\n",
      "Initial guess density matrix may have large error.\n",
      "Step   12 : Displace = \u001b[0m2.771e-02\u001b[0m/\u001b[0m3.551e-02\u001b[0m (rms/max) Trust = 2.994e-02 (\u001b[1;91mx\u001b[0m) Grad = \u001b[0m5.641e-03\u001b[0m/\u001b[0m9.679e-03\u001b[0m (rms/max) E (change) = -3073.8737293838 (\u001b[0m-6.043e-04\u001b[0m) Quality = \u001b[0m0.664\u001b[0m\n",
      "Hessian Eigenvalues:  -4.309e-02  5.666e-04  6.654e-03  9.436e-03  1.373e-02  2.237e-02  4.741e-02\n",
      " 8.492e-02  1.386e-01  1.589e-01  1.622e-01  2.476e-01    .....    5.458e-01  7.198e-01  7.210e-01\n",
      "WARN: Large deviations found between the input molecule and the molecule from chkfile\n",
      "Initial guess density matrix may have large error.\n",
      "Step   13 : Displace = \u001b[0m2.988e-02\u001b[0m/\u001b[0m3.769e-02\u001b[0m (rms/max) Trust = 2.994e-02 (=) Grad = \u001b[0m4.554e-03\u001b[0m/\u001b[0m8.741e-03\u001b[0m (rms/max) E (change) = -3073.8739152346 (\u001b[0m-1.859e-04\u001b[0m) Quality = \u001b[0m0.238\u001b[0m\n",
      "Hessian Eigenvalues:  -4.373e-02  2.083e-03  6.763e-03  9.411e-03  1.597e-02  2.206e-02  5.776e-02\n",
      " 8.734e-02  1.398e-01  1.601e-01  1.625e-01  2.478e-01    .....    5.463e-01  7.198e-01  7.210e-01\n",
      "WARN: Large deviations found between the input molecule and the molecule from chkfile\n",
      "Initial guess density matrix may have large error.\n",
      "Step   14 : Displace = \u001b[0m1.230e-02\u001b[0m/\u001b[0m1.879e-02\u001b[0m (rms/max) Trust = 1.494e-02 (\u001b[91m-\u001b[0m) Grad = \u001b[0m1.855e-03\u001b[0m/\u001b[0m3.834e-03\u001b[0m (rms/max) E (change) = -3073.8741272096 (\u001b[0m-2.120e-04\u001b[0m) Quality = \u001b[0m0.978\u001b[0m\n",
      "Hessian Eigenvalues:  -4.374e-02 -2.572e-03  6.393e-03  9.136e-03  1.418e-02  2.026e-02  5.447e-02\n",
      " 8.557e-02  1.390e-01  1.548e-01  1.622e-01  2.479e-01    .....    5.471e-01  7.198e-01  7.210e-01\n",
      "Step   15 : Displace = \u001b[0m2.039e-02\u001b[0m/\u001b[0m2.695e-02\u001b[0m (rms/max) Trust = 2.113e-02 (\u001b[92m+\u001b[0m) Grad = \u001b[0m4.360e-03\u001b[0m/\u001b[0m8.351e-03\u001b[0m (rms/max) E (change) = -3073.8743176396 (\u001b[0m-1.904e-04\u001b[0m) Quality = \u001b[0m0.509\u001b[0m\n",
      "Hessian Eigenvalues:  -4.380e-02 -2.001e-03  6.390e-03  9.140e-03  1.419e-02  2.026e-02  5.623e-02\n",
      " 8.560e-02  1.392e-01  1.547e-01  1.623e-01  2.484e-01    .....    5.475e-01  7.198e-01  7.210e-01\n",
      "Step   16 : Displace = \u001b[0m2.210e-02\u001b[0m/\u001b[0m3.478e-02\u001b[0m (rms/max) Trust = 2.113e-02 (=) Grad = \u001b[0m6.146e-03\u001b[0m/\u001b[0m1.241e-02\u001b[0m (rms/max) E (change) = -3073.8748480835 (\u001b[0m-5.304e-04\u001b[0m) Quality = \u001b[0m0.709\u001b[0m\n",
      "Hessian Eigenvalues:  -4.375e-02 -3.045e-03  6.505e-03  9.163e-03  1.431e-02  2.029e-02  5.799e-02\n",
      " 8.556e-02  1.392e-01  1.551e-01  1.624e-01  2.493e-01    .....    5.484e-01  7.198e-01  7.210e-01\n",
      "Step   17 : Displace = \u001b[0m2.204e-02\u001b[0m/\u001b[0m3.267e-02\u001b[0m (rms/max) Trust = 2.113e-02 (=) Grad = \u001b[0m7.216e-03\u001b[0m/\u001b[0m1.407e-02\u001b[0m (rms/max) E (change) = -3073.8756197555 (\u001b[0m-7.717e-04\u001b[0m) Quality = \u001b[0m0.846\u001b[0m\n",
      "Hessian Eigenvalues:  -4.386e-02 -4.212e-03  6.506e-03  9.164e-03  1.420e-02  2.024e-02  6.075e-02\n",
      " 8.551e-02  1.393e-01  1.547e-01  1.626e-01  2.500e-01    .....    5.489e-01  7.198e-01  7.210e-01\n",
      "Step   18 : Displace = \u001b[0m2.753e-02\u001b[0m/\u001b[0m5.577e-02\u001b[0m (rms/max) Trust = 2.988e-02 (\u001b[92m+\u001b[0m) Grad = \u001b[0m1.044e-02\u001b[0m/\u001b[0m2.101e-02\u001b[0m (rms/max) E (change) = -3073.8775516453 (\u001b[0m-1.932e-03\u001b[0m) Quality = \u001b[0m0.882\u001b[0m\n",
      "Hessian Eigenvalues:  -4.379e-02 -4.195e-03  6.558e-03  9.173e-03  1.418e-02  2.026e-02  6.159e-02\n",
      " 8.549e-02  1.393e-01  1.549e-01  1.628e-01  2.512e-01    .....    5.498e-01  7.198e-01  7.210e-01\n",
      "WARN: Large deviations found between the input molecule and the molecule from chkfile\n",
      "Initial guess density matrix may have large error.\n",
      "Step   19 : Displace = \u001b[0m3.883e-02\u001b[0m/\u001b[0m7.389e-02\u001b[0m (rms/max) Trust = 4.226e-02 (\u001b[92m+\u001b[0m) Grad = \u001b[0m1.196e-02\u001b[0m/\u001b[0m2.265e-02\u001b[0m (rms/max) E (change) = -3073.8811346288 (\u001b[0m-3.583e-03\u001b[0m) Quality = \u001b[0m0.912\u001b[0m\n",
      "Hessian Eigenvalues:  -4.387e-02 -3.025e-03  6.581e-03  9.173e-03  1.417e-02  2.026e-02  6.284e-02\n",
      " 8.549e-02  1.393e-01  1.545e-01  1.629e-01  2.510e-01    .....    5.505e-01  7.198e-01  7.210e-01\n",
      "WARN: Large deviations found between the input molecule and the molecule from chkfile\n",
      "Initial guess density matrix may have large error.\n",
      "Step   20 : Displace = \u001b[0m5.914e-02\u001b[0m/\u001b[0m1.143e-01\u001b[0m (rms/max) Trust = 5.976e-02 (\u001b[92m+\u001b[0m) Grad = \u001b[0m1.184e-02\u001b[0m/\u001b[0m2.148e-02\u001b[0m (rms/max) E (change) = -3073.8877843394 (\u001b[0m-6.650e-03\u001b[0m) Quality = \u001b[0m0.799\u001b[0m\n",
      "Hessian Eigenvalues:  -4.347e-02  6.127e-04  6.653e-03  9.180e-03  1.424e-02  2.026e-02  6.279e-02\n",
      " 8.587e-02  1.397e-01  1.545e-01  1.629e-01  2.527e-01    .....    5.525e-01  7.198e-01  7.211e-01\n",
      "WARN: Large deviations found between the input molecule and the molecule from chkfile\n",
      "Initial guess density matrix may have large error.\n",
      "Step   21 : Displace = \u001b[0m6.189e-02\u001b[0m/\u001b[0m8.789e-02\u001b[0m (rms/max) Trust = 6.000e-02 (\u001b[92m+\u001b[0m) Grad = \u001b[0m1.150e-02\u001b[0m/\u001b[0m2.286e-02\u001b[0m (rms/max) E (change) = -3073.8887315417 (\u001b[0m-9.472e-04\u001b[0m) Quality = \u001b[0m0.300\u001b[0m\n",
      "Hessian Eigenvalues:  -6.286e-02 -3.176e-02  6.650e-03  9.195e-03  1.429e-02  2.129e-02  6.360e-02\n",
      " 8.537e-02  1.473e-01  1.602e-01  1.632e-01  2.710e-01    .....    5.610e-01  7.198e-01  7.212e-01\n",
      "WARN: Large deviations found between the input molecule and the molecule from chkfile\n",
      "Initial guess density matrix may have large error.\n",
      "Step   22 : Displace = \u001b[0m2.984e-02\u001b[0m/\u001b[0m4.703e-02\u001b[0m (rms/max) Trust = 3.000e-02 (\u001b[91m-\u001b[0m) Grad = \u001b[0m8.061e-03\u001b[0m/\u001b[0m1.540e-02\u001b[0m (rms/max) E (change) = -3073.8900059762 (\u001b[0m-1.274e-03\u001b[0m) Quality = \u001b[0m0.835\u001b[0m\n",
      "Hessian Eigenvalues:  -1.086e-01 -8.304e-03  6.705e-03  9.195e-03  1.428e-02  2.122e-02  6.353e-02\n",
      " 8.513e-02  1.482e-01  1.596e-01  1.630e-01  2.804e-01    .....    6.105e-01  7.198e-01  7.223e-01\n",
      "WARN: Large deviations found between the input molecule and the molecule from chkfile\n",
      "Initial guess density matrix may have large error.\n",
      "Step   23 : Displace = \u001b[0m4.124e-02\u001b[0m/\u001b[0m6.599e-02\u001b[0m (rms/max) Trust = 4.243e-02 (\u001b[92m+\u001b[0m) Grad = \u001b[0m6.887e-03\u001b[0m/\u001b[0m9.609e-03\u001b[0m (rms/max) E (change) = -3073.8913829233 (\u001b[0m-1.377e-03\u001b[0m) Quality = \u001b[0m0.378\u001b[0m\n",
      "Hessian Eigenvalues:  -1.087e-01  3.763e-03  6.772e-03  9.438e-03  1.504e-02  2.181e-02  6.460e-02\n",
      " 8.855e-02  1.486e-01  1.605e-01  1.632e-01  2.841e-01    .....    6.157e-01  7.198e-01  7.225e-01\n",
      "WARN: Large deviations found between the input molecule and the molecule from chkfile\n",
      "Initial guess density matrix may have large error.\n",
      "Step   24 : Displace = \u001b[0m2.006e-02\u001b[0m/\u001b[0m2.709e-02\u001b[0m (rms/max) Trust = 2.062e-02 (\u001b[91m-\u001b[0m) Grad = \u001b[0m4.135e-03\u001b[0m/\u001b[0m6.328e-03\u001b[0m (rms/max) E (change) = -3073.8921225394 (\u001b[0m-7.396e-04\u001b[0m) Quality = \u001b[0m0.940\u001b[0m\n",
      "Hessian Eigenvalues:  -1.109e-01 -1.540e-03  6.607e-03  9.429e-03  1.506e-02  2.498e-02  6.692e-02\n",
      " 7.237e-02  1.459e-01  1.615e-01  1.629e-01  2.722e-01    .....    6.163e-01  7.198e-01  7.227e-01\n",
      "WARN: Large deviations found between the input molecule and the molecule from chkfile\n",
      "Initial guess density matrix may have large error.\n",
      "Step   25 : Displace = \u001b[0m2.971e-02\u001b[0m/\u001b[0m5.881e-02\u001b[0m (rms/max) Trust = 2.916e-02 (\u001b[92m+\u001b[0m) Grad = \u001b[0m3.634e-03\u001b[0m/\u001b[0m5.634e-03\u001b[0m (rms/max) E (change) = -3073.8927961234 (\u001b[0m-6.736e-04\u001b[0m) Quality = \u001b[0m0.718\u001b[0m\n",
      "Hessian Eigenvalues:  -1.155e-01 -4.336e-04  6.606e-03  9.493e-03  1.520e-02  2.531e-02  7.020e-02\n",
      " 7.289e-02  1.460e-01  1.622e-01  1.629e-01  2.727e-01    .....    6.283e-01  7.198e-01  7.229e-01\n",
      "WARN: Large deviations found between the input molecule and the molecule from chkfile\n",
      "Initial guess density matrix may have large error.\n",
      "Step   26 : Displace = \u001b[0m3.106e-02\u001b[0m/\u001b[0m5.423e-02\u001b[0m (rms/max) Trust = 2.916e-02 (=) Grad = \u001b[0m3.026e-03\u001b[0m/\u001b[0m4.343e-03\u001b[0m (rms/max) E (change) = -3073.8931682115 (\u001b[0m-3.721e-04\u001b[0m) Quality = \u001b[0m0.529\u001b[0m\n",
      "Hessian Eigenvalues:  -1.308e-01 -4.741e-03  6.615e-03  9.508e-03  1.516e-02  2.551e-02  7.217e-02\n",
      " 7.798e-02  1.456e-01  1.629e-01  1.638e-01  2.786e-01    .....    6.545e-01  7.198e-01  7.245e-01\n",
      "WARN: Large deviations found between the input molecule and the molecule from chkfile\n",
      "Initial guess density matrix may have large error.\n",
      "Step   27 : Displace = \u001b[0m2.985e-02\u001b[0m/\u001b[0m4.059e-02\u001b[0m (rms/max) Trust = 2.916e-02 (=) Grad = \u001b[0m2.315e-03\u001b[0m/\u001b[0m3.631e-03\u001b[0m (rms/max) E (change) = -3073.8934122631 (\u001b[0m-2.441e-04\u001b[0m) Quality = \u001b[0m0.297\u001b[0m\n",
      "Hessian Eigenvalues:  -1.414e-01  5.314e-04  6.698e-03  9.776e-03  1.607e-02  2.550e-02  7.278e-02\n",
      " 8.037e-02  1.456e-01  1.629e-01  1.651e-01  2.859e-01    .....    6.762e-01  7.198e-01  7.261e-01\n",
      "Step   28 : Displace = \u001b[0m1.460e-02\u001b[0m/\u001b[0m2.097e-02\u001b[0m (rms/max) Trust = 1.458e-02 (\u001b[91m-\u001b[0m) Grad = \u001b[0m1.073e-03\u001b[0m/\u001b[0m1.853e-03\u001b[0m (rms/max) E (change) = -3073.8935422768 (\u001b[0m-1.300e-04\u001b[0m) Quality = \u001b[0m0.772\u001b[0m\n",
      "Hessian Eigenvalues:  -1.652e-01  9.914e-04  6.699e-03  9.775e-03  1.653e-02  2.562e-02  7.638e-02\n",
      " 8.236e-02  1.457e-01  1.628e-01  1.707e-01  3.083e-01    .....    6.859e-01  7.200e-01  7.344e-01\n",
      "WARN: Large deviations found between the input molecule and the molecule from chkfile\n",
      "Initial guess density matrix may have large error.\n",
      "Step   29 : Displace = \u001b[0m2.047e-02\u001b[0m/\u001b[0m4.367e-02\u001b[0m (rms/max) Trust = 2.062e-02 (\u001b[92m+\u001b[0m) Grad = \u001b[0m1.165e-03\u001b[0m/\u001b[0m1.762e-03\u001b[0m (rms/max) E (change) = -3073.8935387272 (\u001b[91m+3.550e-06\u001b[0m) Quality = \u001b[91m-0.134\u001b[0m\n",
      "\u001b[93mRejecting step - quality is lower than 0.0\u001b[0m\n",
      "Hessian Eigenvalues:  -1.652e-01  9.914e-04  6.699e-03  9.775e-03  1.653e-02  2.562e-02  7.638e-02\n",
      " 8.236e-02  1.457e-01  1.628e-01  1.707e-01  3.083e-01    .....    6.859e-01  7.200e-01  7.344e-01\n",
      "WARN: Large deviations found between the input molecule and the molecule from chkfile\n",
      "Initial guess density matrix may have large error.\n",
      "Step   30 : Displace = \u001b[0m9.883e-03\u001b[0m/\u001b[0m2.046e-02\u001b[0m (rms/max) Trust = 1.023e-02 (\u001b[1;91mx\u001b[0m) Grad = \u001b[0m6.429e-04\u001b[0m/\u001b[0m8.587e-04\u001b[0m (rms/max) E (change) = -3073.8935630316 (\u001b[0m-2.075e-05\u001b[0m) Quality = \u001b[0m0.676\u001b[0m\n",
      "Hessian Eigenvalues:  -1.648e-01  9.274e-04  6.712e-03  9.885e-03  1.708e-02  2.563e-02  7.714e-02\n",
      " 8.239e-02  1.459e-01  1.629e-01  1.706e-01  3.090e-01    .....    6.863e-01  7.200e-01  7.350e-01\n",
      "Step   31 : Displace = \u001b[0m4.125e-03\u001b[0m/\u001b[0m8.127e-03\u001b[0m (rms/max) Trust = 1.023e-02 (=) Grad = \u001b[0m6.197e-04\u001b[0m/\u001b[0m1.238e-03\u001b[0m (rms/max) E (change) = -3073.8935662806 (\u001b[0m-3.249e-06\u001b[0m) Quality = \u001b[0m0.752\u001b[0m\n",
      "Hessian Eigenvalues:  -1.665e-01 -2.609e-03  6.719e-03  9.889e-03  1.696e-02  2.593e-02  8.138e-02\n",
      " 8.319e-02  1.459e-01  1.629e-01  1.698e-01  3.100e-01    .....    6.898e-01  7.200e-01  7.351e-01\n",
      "Step   32 : Displace = \u001b[92m1.044e-03\u001b[0m/\u001b[92m1.380e-03\u001b[0m (rms/max) Trust = 1.447e-02 (\u001b[92m+\u001b[0m) Grad = \u001b[92m2.780e-04\u001b[0m/\u001b[92m4.022e-04\u001b[0m (rms/max) E (change) = -3073.8935692343 (\u001b[0m-2.954e-06\u001b[0m) Quality = \u001b[0m0.755\u001b[0m\n",
      "Hessian Eigenvalues:  -1.589e-01 -5.179e-03  4.907e-03  9.912e-03  1.673e-02  2.390e-02  7.653e-02\n",
      " 9.276e-02  1.444e-01  1.464e-01  1.629e-01  3.148e-01    .....    6.818e-01  7.177e-01  7.358e-01\n",
      "Step   33 : Displace = \u001b[92m1.165e-03\u001b[0m/\u001b[0m2.193e-03\u001b[0m (rms/max) Trust = 2.047e-02 (\u001b[92m+\u001b[0m) Grad = \u001b[92m1.518e-04\u001b[0m/\u001b[92m2.140e-04\u001b[0m (rms/max) E (change) = -3073.8935713014 (\u001b[0m-2.067e-06\u001b[0m) Quality = \u001b[0m0.809\u001b[0m\n",
      "Hessian Eigenvalues:  -1.585e-01 -6.054e-03  5.682e-03  9.982e-03  1.514e-02  2.356e-02  7.728e-02\n",
      " 9.260e-02  1.377e-01  1.468e-01  1.629e-01  3.142e-01    .....    6.793e-01  7.174e-01  7.351e-01\n",
      "Step   34 : Displace = \u001b[0m1.416e-03\u001b[0m/\u001b[0m2.323e-03\u001b[0m (rms/max) Trust = 2.895e-02 (\u001b[92m+\u001b[0m) Grad = \u001b[92m1.485e-04\u001b[0m/\u001b[92m2.680e-04\u001b[0m (rms/max) E (change) = -3073.8935725872 (\u001b[0m-1.286e-06\u001b[0m) Quality = \u001b[0m0.918\u001b[0m\n",
      "Hessian Eigenvalues:  -1.582e-01 -6.058e-03  2.704e-03  1.001e-02  1.431e-02  2.378e-02  7.733e-02\n",
      " 9.285e-02  1.347e-01  1.471e-01  1.629e-01  3.141e-01    .....    6.771e-01  7.174e-01  7.352e-01\n",
      "Step   35 : Displace = \u001b[0m2.033e-03\u001b[0m/\u001b[0m2.775e-03\u001b[0m (rms/max) Trust = 4.094e-02 (\u001b[92m+\u001b[0m) Grad = \u001b[92m1.702e-04\u001b[0m/\u001b[92m2.695e-04\u001b[0m (rms/max) E (change) = -3073.8935741829 (\u001b[0m-1.596e-06\u001b[0m) Quality = \u001b[0m0.854\u001b[0m\n",
      "Hessian Eigenvalues:  -1.573e-01 -6.135e-03  6.070e-04  1.003e-02  1.411e-02  2.377e-02  7.743e-02\n",
      " 9.290e-02  1.334e-01  1.456e-01  1.629e-01  3.140e-01    .....    6.756e-01  7.173e-01  7.350e-01\n",
      "Step   36 : Displace = \u001b[0m3.154e-03\u001b[0m/\u001b[0m4.143e-03\u001b[0m (rms/max) Trust = 5.790e-02 (\u001b[92m+\u001b[0m) Grad = \u001b[92m1.575e-04\u001b[0m/\u001b[92m2.816e-04\u001b[0m (rms/max) E (change) = -3073.8935765375 (\u001b[0m-2.355e-06\u001b[0m) Quality = \u001b[0m0.937\u001b[0m\n",
      "Hessian Eigenvalues:  -1.566e-01 -6.271e-03  5.652e-04  1.004e-02  1.406e-02  2.379e-02  7.767e-02\n",
      " 9.303e-02  1.329e-01  1.448e-01  1.630e-01  3.138e-01    .....    6.751e-01  7.173e-01  7.348e-01\n",
      "Step   37 : Displace = \u001b[0m2.979e-03\u001b[0m/\u001b[0m3.941e-03\u001b[0m (rms/max) Trust = 6.000e-02 (\u001b[92m+\u001b[0m) Grad = \u001b[92m1.423e-04\u001b[0m/\u001b[92m2.285e-04\u001b[0m (rms/max) E (change) = -3073.8935784076 (\u001b[0m-1.870e-06\u001b[0m) Quality = \u001b[0m0.941\u001b[0m\n",
      "Hessian Eigenvalues:  -1.549e-01 -6.441e-03  9.570e-04  1.006e-02  1.405e-02  2.381e-02  7.770e-02\n",
      " 9.322e-02  1.324e-01  1.444e-01  1.630e-01  3.140e-01    .....    6.748e-01  7.172e-01  7.347e-01\n",
      "Step   38 : Displace = \u001b[0m2.084e-03\u001b[0m/\u001b[0m2.798e-03\u001b[0m (rms/max) Trust = 6.000e-02 (=) Grad = \u001b[92m1.531e-04\u001b[0m/\u001b[92m2.904e-04\u001b[0m (rms/max) E (change) = -3073.8935793292 (\u001b[92m-9.216e-07\u001b[0m) Quality = \u001b[0m0.826\u001b[0m\n",
      "Hessian Eigenvalues:  -1.505e-01 -6.506e-03  6.152e-04  1.009e-02  1.404e-02  2.386e-02  7.851e-02\n",
      " 9.364e-02  1.316e-01  1.441e-01  1.631e-01  3.135e-01    .....    6.746e-01  7.172e-01  7.346e-01\n",
      "Step   39 : Displace = \u001b[92m1.065e-03\u001b[0m/\u001b[92m1.489e-03\u001b[0m (rms/max) Trust = 6.000e-02 (=) Grad = \u001b[92m1.410e-04\u001b[0m/\u001b[92m2.238e-04\u001b[0m (rms/max) E (change) = -3073.8935796226 (\u001b[92m-2.935e-07\u001b[0m) Quality = \u001b[0m0.561\u001b[0m\n",
      "Hessian Eigenvalues:  -1.505e-01 -6.506e-03  6.152e-04  1.009e-02  1.404e-02  2.386e-02  7.851e-02\n",
      " 9.364e-02  1.316e-01  1.441e-01  1.631e-01  3.135e-01    .....    6.746e-01  7.172e-01  7.346e-01\n",
      "Converged! =D\n",
      "\n",
      "    #==========================================================================#\n",
      "    #| If this code has benefited your research, please support us by citing: |#\n",
      "    #|                                                                        |#\n",
      "    #| Wang, L.-P.; Song, C.C. (2016) \"Geometry optimization made simple with |#\n",
      "    #| translation and rotation coordinates\", J. Chem, Phys. 144, 214108.     |#\n",
      "    #| http://dx.doi.org/10.1063/1.4952956                                    |#\n",
      "    #==========================================================================#\n",
      "    Time elapsed since start of run_optimizer: 2366.420 seconds\n"
     ]
    }
   ],
   "source": [
    "params = {'transition': True, 'trust': 0.02, 'tmax': 0.06}\n",
    "mol_ts_opt = mf_ts.Gradients().optimizer(solver='geomeTRIC').kernel(params)\n",
    "#mol_ts_opt.atom_coords()\n",
    "\n",
    "from pyscf.geomopt.geometric_solver import optimize\n",
    "#mol_ts_opt = optimize(mf_ts, maxsteps=100, geomopt = 'TS', trust = 0.02)\n",
    "#optimizer.hessian_update(h_internal)"
   ]
  },
  {
   "cell_type": "code",
   "execution_count": 28,
   "metadata": {},
   "outputs": [],
   "source": [
    "mf_ts_opt = run_dft(mol_ts_opt)"
   ]
  },
  {
   "cell_type": "code",
   "execution_count": 29,
   "metadata": {},
   "outputs": [],
   "source": [
    "h_ts = calc_hessian(mf_ts_opt)"
   ]
  },
  {
   "cell_type": "code",
   "execution_count": 30,
   "metadata": {},
   "outputs": [
    {
     "data": {
      "text/plain": [
       "array([   0.        +47.05698751j,    0.        +42.73367632j,\n",
       "          0.         +9.8716741j ,   56.65691976 +0.j        ,\n",
       "         66.70052504 +0.j        ,   69.88200523 +0.j        ,\n",
       "        399.99369298 +0.j        ,  400.00790369 +0.j        ,\n",
       "        404.01973653 +0.j        ,  591.6692814  +0.j        ,\n",
       "        935.49964068 +0.j        ,  940.85919588 +0.j        ,\n",
       "       1278.24987834 +0.j        , 1433.17478444 +0.j        ,\n",
       "       1433.63117202 +0.j        , 3106.47931642 +0.j        ,\n",
       "       3233.83456432 +0.j        , 3235.3658998  +0.j        ])"
      ]
     },
     "execution_count": 30,
     "metadata": {},
     "output_type": "execute_result"
    }
   ],
   "source": [
    "freq_info = thermo.harmonic_analysis(mf_ts_opt.mol, h_ts, exclude_trans=False, exclude_rot=False)\n",
    "freq_info['freq_wavenumber']"
   ]
  },
  {
   "cell_type": "code",
   "execution_count": 32,
   "metadata": {},
   "outputs": [
    {
     "data": {
      "application/vnd.jupyter.widget-view+json": {
       "model_id": "f5dea2d28b58461d82b510cd8a53fdec",
       "version_major": 2,
       "version_minor": 0
      },
      "text/plain": [
       "NGLWidget(max_frame=19)"
      ]
     },
     "metadata": {},
     "output_type": "display_data"
    }
   ],
   "source": [
    "import nglview as nv\n",
    "import numpy as np\n",
    "import mdtraj as md\n",
    "\n",
    "def visualise_freqs(mol, freqs, n_frames = 20, amplitude = 3):\n",
    "    # Number of frames for the vibration\n",
    "\n",
    "    # Create an array to store the frames\n",
    "    frames = np.zeros((n_frames, mol.natm, 3))\n",
    "\n",
    "    # Amplitude of vibration (this can be adjusted for better visualization)\n",
    "    amplitude = 3\n",
    "\n",
    "    # Generate frames of the vibrating molecule\n",
    "    for i in range(n_frames):\n",
    "        xs = mol.atom_coords(unit='ANG')\n",
    "        displacement = amplitude * np.sin(2 * np.pi * i / n_frames) * freqs \n",
    "        frames[i] = (xs + displacement)\n",
    "    frames = frames * 0.1 # To convert from  (in pyscf) to nm (for NGLViewer)    \n",
    "\n",
    "    #print(frames)\n",
    "    # Create an empty topology and add atoms manually\n",
    "    topology = md.Topology()\n",
    "    chain = topology.add_chain()\n",
    "    residue = topology.add_residue('MOL', chain)\n",
    "    for idx in range(0, mol.natm):\n",
    "        symbol = mol.atom_symbol(idx)\n",
    "        topology.add_atom(symbol, element=md.element.get_by_symbol(symbol), residue=residue)\n",
    "\n",
    "    # Create a trajectory using mdtraj\n",
    "    traj = md.Trajectory(frames, topology)\n",
    "\n",
    "    # Visualize with nglview\n",
    "    view = nv.show_mdtraj(traj)\n",
    "    view.add_representation('ball+stick', radiusScale=1, showAxes=True)\n",
    "    #view.add_representation('axes')\n",
    "    view.center()\n",
    "\n",
    "    # Display the view\n",
    "    return view\n",
    "\n",
    "freqs = freq_info['norm_mode'][0]\n",
    "\n",
    "visualizer = visualise_freqs(mf_ts_opt.mol, freqs, n_frames = 20, amplitude = 5)\n",
    "visualizer"
   ]
  },
  {
   "cell_type": "code",
   "execution_count": 33,
   "metadata": {},
   "outputs": [
    {
     "data": {
      "text/plain": [
       "'6\\nXYZ from PySCF\\nC           2.08644        0.01093        1.82323\\nH           2.63299       -0.88713        1.52258\\nH           2.43632        0.34071        2.80545\\nH           1.01453       -0.20263        1.86348\\nCl          2.38792        1.34737        0.58951\\nBr          1.64107       -2.37787        4.05139'"
      ]
     },
     "execution_count": 33,
     "metadata": {},
     "output_type": "execute_result"
    }
   ],
   "source": [
    "# Save the molecule to an XYZ file\n",
    "mol_ts_opt.tofile('TS_SN2.xyz', format='xyz')"
   ]
  },
  {
   "cell_type": "code",
   "execution_count": null,
   "metadata": {},
   "outputs": [],
   "source": []
  }
 ],
 "metadata": {
  "kernelspec": {
   "display_name": "Python 3 (ipykernel)",
   "language": "python",
   "name": "python3"
  },
  "language_info": {
   "codemirror_mode": {
    "name": "ipython",
    "version": 3
   },
   "file_extension": ".py",
   "mimetype": "text/x-python",
   "name": "python",
   "nbconvert_exporter": "python",
   "pygments_lexer": "ipython3",
   "version": "3.12.3"
  }
 },
 "nbformat": 4,
 "nbformat_minor": 4
}
